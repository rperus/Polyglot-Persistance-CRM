{
 "cells": [
  {
   "cell_type": "markdown",
   "metadata": {},
   "source": [
    "# BEMM459J - Database Technologies for Business Analytics"
   ]
  },
  {
   "cell_type": "code",
   "execution_count": 13,
   "metadata": {},
   "outputs": [],
   "source": [
    "# Import library\n",
    "import sqlite3\n",
    "\n",
    "# Connect to the Database\n",
    "conn=sqlite3.connect('invoicing.db')\n",
    "cur=conn.cursor()"
   ]
  },
  {
   "cell_type": "markdown",
   "metadata": {},
   "source": [
    "## Tables"
   ]
  },
  {
   "cell_type": "code",
   "execution_count": 14,
   "metadata": {
    "scrolled": true
   },
   "outputs": [
    {
     "name": "stdout",
     "output_type": "stream",
     "text": [
      "['Project', 'CompanyType', 'Company', 'Contact', 'ProductsServices', 'Invoice_ProductsServices', 'Invoice']\n"
     ]
    }
   ],
   "source": [
    "# List of all tables\n",
    "\n",
    "def tables_in_sqlite_db(conn):\n",
    "    cursor = conn.execute(\"SELECT name FROM sqlite_master WHERE type='table';\")\n",
    "    tables = [\n",
    "        v[0] for v in cursor.fetchall()\n",
    "        if v[0] != \"sqlite_sequence\"\n",
    "    ]\n",
    "\n",
    "    cursor.close()\n",
    "    return tables\n",
    "\n",
    "tables = tables_in_sqlite_db(conn)\n",
    "#print tables\n",
    "print(tables)"
   ]
  },
  {
   "cell_type": "markdown",
   "metadata": {},
   "source": [
    "## CRUD operations (Create, Read, Update, Delete)\n"
   ]
  },
  {
   "cell_type": "markdown",
   "metadata": {},
   "source": [
    "### Create"
   ]
  },
  {
   "cell_type": "code",
   "execution_count": 16,
   "metadata": {},
   "outputs": [
    {
     "name": "stdout",
     "output_type": "stream",
     "text": [
      "Enter invoice ID:20\n",
      "Enter company identifier (RFC):SCV041116QJ0\n",
      "Enter Project number:1\n",
      "Enter invoive description:Metal\n",
      "Enter invoice date:01/01/2021\n",
      "Enter invoice total:10000\n",
      "Enter paid amount:0\n",
      "Enter invoice method:Cash\n",
      "Enter tax:0\n",
      "Error in adding invoice\n"
     ]
    }
   ],
   "source": [
    "# Insert one record in table ECC_DEPARTMENT based on user input\n",
    "\n",
    "inputinvoiceID=int(input('Enter invoice ID:'))\n",
    "inputcompanyRFC=input('Enter company identifier (RFC):')\n",
    "inputprojectID=int(input('Enter Project number:'))\n",
    "inputinvoiceDescription=input('Enter invoive description:')\n",
    "inputinvoiceDate=input('Enter invoice date:')\n",
    "inputinvoiceTotal=int(input('Enter invoice total:'))\n",
    "inputinvoiceBalance=int(input('Enter paid amount:'))         \n",
    "inputinvoiceMethod=input('Enter invoice method:')\n",
    "inputinvoicetaxRate=int(input('Enter tax:'))\n",
    "\n",
    "qry=\"insert into Invoice (invoiceID,companyRFC,projectID,invoiceDescription,invoiceDate,invoiceTotal,invoiceBalance,invoiceMethod,invoicetaxRate) values (?,?,?,?,?,?,?,?,?);\"\n",
    "\n",
    "try:\n",
    "        cur.execute(qry, (inputinvoiceID,inputcompanyRFC,inputprojectID,inputinvoiceDescription,inputinvoiceDate,inputinvoiceTotal,inputinvoiceBalance,inputinvoiceMethodinput,invoicetaxRate))\n",
    "        print ('New invoice successfully added')\n",
    "        conn.commit()\n",
    "except:\n",
    "        print ('Error in adding invoice')\n",
    "        conn.rollback()"
   ]
  },
  {
   "cell_type": "code",
   "execution_count": 17,
   "metadata": {},
   "outputs": [
    {
     "name": "stdout",
     "output_type": "stream",
     "text": [
      "Enter company identifier (RFC):SCV041116QJ0\n",
      "Enter Project number:1\n",
      "Enter invoive description:Metal\n",
      "Enter invoice date:01/01/2021\n",
      "Enter invoice total:10000\n",
      "Enter paid amount:0\n",
      "New invoice successfully added\n"
     ]
    }
   ],
   "source": [
    "# Insert one record in table ECC_DEPARTMENT based on user input\n",
    "\n",
    "\n",
    "inputcompanyRFC=input('Enter company identifier (RFC):')\n",
    "inputprojectID=int(input('Enter Project number:'))\n",
    "inputinvoiceDescription=input('Enter invoive description:')\n",
    "inputinvoiceDate=input('Enter invoice date:')\n",
    "inputinvoiceTotal=int(input('Enter invoice total:'))\n",
    "inputinvoiceBalance=int(input('Enter paid amount:'))         \n",
    "\n",
    "\n",
    "qry=\"insert into Invoice (companyRFC,projectID,invoiceDescription,invoiceDate,invoiceTotal,invoiceBalance) values (?,?,?,?,?,?);\"\n",
    "\n",
    "try:\n",
    "        cur.execute(qry, (inputcompanyRFC,inputprojectID,inputinvoiceDescription,inputinvoiceDate,inputinvoiceTotal,inputinvoiceBalance))\n",
    "        print ('New invoice successfully added')\n",
    "        conn.commit()\n",
    "except:\n",
    "        print ('Error in adding invoice')\n",
    "        conn.rollback()"
   ]
  },
  {
   "cell_type": "code",
   "execution_count": 23,
   "metadata": {},
   "outputs": [
    {
     "name": "stdout",
     "output_type": "stream",
     "text": [
      "[(15, 'SCV041116QJ0', 1, 'Metal', '01/01/2021', 10000, 0, 'Wire Transfer', 0.16)]\n"
     ]
    }
   ],
   "source": [
    "# Query and display one record from the table ECC_DEPARTMENT\n",
    "\n",
    "# Prepare the query String\n",
    "qry=\"select * from Invoice order by invoiceID desc limit 1;\"\n",
    "\n",
    "# Execute query on SQLite\n",
    "cur.execute(qry)\n",
    "\n",
    "# Fetch and display one row, fetchone enseña uno\n",
    "row=cur.fetchall()\n",
    "\n",
    "print (row)"
   ]
  },
  {
   "cell_type": "code",
   "execution_count": null,
   "metadata": {},
   "outputs": [],
   "source": []
  }
 ],
 "metadata": {
  "kernelspec": {
   "display_name": "Python 3",
   "language": "python",
   "name": "python3"
  },
  "language_info": {
   "codemirror_mode": {
    "name": "ipython",
    "version": 3
   },
   "file_extension": ".py",
   "mimetype": "text/x-python",
   "name": "python",
   "nbconvert_exporter": "python",
   "pygments_lexer": "ipython3",
   "version": "3.8.5"
  }
 },
 "nbformat": 4,
 "nbformat_minor": 4
}
