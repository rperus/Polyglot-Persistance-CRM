{
 "cells": [
  {
   "cell_type": "markdown",
   "metadata": {},
   "source": [
    "# BEMM459J - Database Technologies for Business Analytics"
   ]
  },
  {
   "cell_type": "code",
   "execution_count": 42,
   "metadata": {},
   "outputs": [
    {
     "name": "stdout",
     "output_type": "stream",
     "text": [
      "<class 'sqlite3.Cursor'>\n",
      "3.33.0\n"
     ]
    }
   ],
   "source": [
    "# Import library\n",
    "import sqlite3\n",
    "import pandas as pd\n",
    "\n",
    "# Connect to the Database\n",
    "conn=sqlite3.connect('invoicing.db')\n",
    "cur=conn.cursor()\n",
    "print(type(cur))\n",
    "print (sqlite3.sqlite_version)"
   ]
  },
  {
   "cell_type": "markdown",
   "metadata": {},
   "source": [
    "## Show Tables"
   ]
  },
  {
   "cell_type": "code",
   "execution_count": 2,
   "metadata": {
    "scrolled": true
   },
   "outputs": [
    {
     "name": "stdout",
     "output_type": "stream",
     "text": [
      "['Project', 'CompanyType', 'Company', 'Contact', 'ProductsServices', 'Invoice_ProductsServices', 'Invoice']\n"
     ]
    }
   ],
   "source": [
    "# List of all tables\n",
    "\n",
    "def tables_in_sqlite_db(conn):\n",
    "    cursor = conn.execute(\"SELECT name FROM sqlite_master WHERE type='table';\")\n",
    "    tables = [\n",
    "        v[0] for v in cursor.fetchall()\n",
    "        if v[0] != \"sqlite_sequence\"\n",
    "    ]\n",
    "\n",
    "    cursor.close()\n",
    "    return tables\n",
    "\n",
    "tables = tables_in_sqlite_db(conn)\n",
    "#print tables\n",
    "print(tables)"
   ]
  },
  {
   "cell_type": "markdown",
   "metadata": {},
   "source": [
    "## CRUD operations (Create, Read, Update, Delete)\n"
   ]
  },
  {
   "cell_type": "markdown",
   "metadata": {},
   "source": [
    "### Create"
   ]
  },
  {
   "cell_type": "code",
   "execution_count": 7,
   "metadata": {},
   "outputs": [
    {
     "name": "stdout",
     "output_type": "stream",
     "text": [
      "Enter company identifier (RFC):S&S021003TBA\n",
      "Enter Project number:2\n",
      "Enter invoive description:Sand\n",
      "Enter invoice date:01/04/2021\n",
      "Enter invoice total:10000\n",
      "Enter paid amount:5000\n",
      "New invoice successfully added\n"
     ]
    }
   ],
   "source": [
    "# Insert one record in table ECC_DEPARTMENT based on user input\n",
    "\n",
    "\n",
    "inputcompanyRFC=input('Enter company identifier (RFC):')\n",
    "inputprojectID=int(input('Enter Project number:'))\n",
    "inputinvoiceDescription=input('Enter invoive description:')\n",
    "inputinvoiceDate=input('Enter invoice date:')\n",
    "inputinvoiceTotal=int(input('Enter invoice total:'))\n",
    "inputinvoiceBalance=int(input('Enter paid amount:'))         \n",
    "\n",
    "\n",
    "qry=\"insert into Invoice (companyRFC,projectID,invoiceDescription,invoiceDate,invoiceTotal,invoiceBalance) values (?,?,?,?,?,?);\"\n",
    "\n",
    "try:\n",
    "        cur.execute(qry, (inputcompanyRFC,inputprojectID,inputinvoiceDescription,inputinvoiceDate,inputinvoiceTotal,inputinvoiceBalance))\n",
    "        print ('New invoice successfully added')\n",
    "        conn.commit()\n",
    "except:\n",
    "        print ('Error in adding invoice')\n",
    "        conn.rollback()"
   ]
  },
  {
   "cell_type": "code",
   "execution_count": 15,
   "metadata": {},
   "outputs": [
    {
     "name": "stdout",
     "output_type": "stream",
     "text": [
      "[(16, 'S&S021003TBA', 2, 'Sand', '01/04/2021', 10000, 5000, 'Wire Transfer', 0.16)]\n"
     ]
    }
   ],
   "source": [
    "# Query and display tha last invoice created\n",
    "\n",
    "# Query to show one invoice orderd by InvoiceID in desc order\n",
    "qry=\"select * from Invoice order by invoiceID desc limit 1;\"\n",
    "\n",
    "# Execute the query on SQLite\n",
    "cur.execute(qry)\n",
    "\n",
    "# Fetch and display \n",
    "row=cur.fetchall()\n",
    "\n",
    "print (row)"
   ]
  },
  {
   "cell_type": "markdown",
   "metadata": {},
   "source": [
    "### Read"
   ]
  },
  {
   "cell_type": "markdown",
   "metadata": {},
   "source": [
    "Show customer´s invoices and the amount they have to pay.  "
   ]
  },
  {
   "cell_type": "code",
   "execution_count": 56,
   "metadata": {},
   "outputs": [
    {
     "data": {
      "text/html": [
       "<div>\n",
       "<style scoped>\n",
       "    .dataframe tbody tr th:only-of-type {\n",
       "        vertical-align: middle;\n",
       "    }\n",
       "\n",
       "    .dataframe tbody tr th {\n",
       "        vertical-align: top;\n",
       "    }\n",
       "\n",
       "    .dataframe thead th {\n",
       "        text-align: right;\n",
       "    }\n",
       "</style>\n",
       "<table border=\"1\" class=\"dataframe\">\n",
       "  <thead>\n",
       "    <tr style=\"text-align: right;\">\n",
       "      <th></th>\n",
       "      <th>companyName</th>\n",
       "      <th>CompanyTypeID</th>\n",
       "      <th>invoiceDescription</th>\n",
       "      <th>invoiceTotal</th>\n",
       "      <th>invoiceBalance</th>\n",
       "      <th>TotalDueAmount</th>\n",
       "    </tr>\n",
       "  </thead>\n",
       "  <tbody>\n",
       "    <tr>\n",
       "      <th>0</th>\n",
       "      <td>PLUS DIGITAL, SA DE CV</td>\n",
       "      <td>Customer</td>\n",
       "      <td>Sand and gravel bases</td>\n",
       "      <td>80032</td>\n",
       "      <td>80032</td>\n",
       "      <td>0</td>\n",
       "    </tr>\n",
       "    <tr>\n",
       "      <th>1</th>\n",
       "      <td>SERVICIO DE CONSULTORIA DE VALOR AGREGADO SC</td>\n",
       "      <td>Customer</td>\n",
       "      <td>Metal</td>\n",
       "      <td>10000</td>\n",
       "      <td>0</td>\n",
       "      <td>10000</td>\n",
       "    </tr>\n",
       "    <tr>\n",
       "      <th>2</th>\n",
       "      <td>SERVICIO DE CONSULTORIA DE VALOR AGREGADO SC</td>\n",
       "      <td>Customer</td>\n",
       "      <td>Metal structures in foundation masks</td>\n",
       "      <td>168906</td>\n",
       "      <td>100000</td>\n",
       "      <td>68906</td>\n",
       "    </tr>\n",
       "    <tr>\n",
       "      <th>3</th>\n",
       "      <td>SERVICIO DE CONSULTORIA DE VALOR AGREGADO SC</td>\n",
       "      <td>Customer</td>\n",
       "      <td>Monolithic  foundations</td>\n",
       "      <td>435800</td>\n",
       "      <td>230000</td>\n",
       "      <td>205800</td>\n",
       "    </tr>\n",
       "    <tr>\n",
       "      <th>4</th>\n",
       "      <td>Víctor Adrián del Ángel Espinosa</td>\n",
       "      <td>Customer</td>\n",
       "      <td>Heat and waterproofing</td>\n",
       "      <td>35000</td>\n",
       "      <td>15000</td>\n",
       "      <td>20000</td>\n",
       "    </tr>\n",
       "    <tr>\n",
       "      <th>5</th>\n",
       "      <td>Víctor Adrián del Ángel Espinosa</td>\n",
       "      <td>Customer</td>\n",
       "      <td>Subfloor elements</td>\n",
       "      <td>40000</td>\n",
       "      <td>4000</td>\n",
       "      <td>36000</td>\n",
       "    </tr>\n",
       "    <tr>\n",
       "      <th>6</th>\n",
       "      <td>Formas e Imágenes, S.A. de C.V.</td>\n",
       "      <td>Customer</td>\n",
       "      <td>Heat and waterproofing</td>\n",
       "      <td>50000</td>\n",
       "      <td>25000</td>\n",
       "      <td>25000</td>\n",
       "    </tr>\n",
       "  </tbody>\n",
       "</table>\n",
       "</div>"
      ],
      "text/plain": [
       "                                    companyName CompanyTypeID  \\\n",
       "0                        PLUS DIGITAL, SA DE CV      Customer   \n",
       "1  SERVICIO DE CONSULTORIA DE VALOR AGREGADO SC      Customer   \n",
       "2  SERVICIO DE CONSULTORIA DE VALOR AGREGADO SC      Customer   \n",
       "3  SERVICIO DE CONSULTORIA DE VALOR AGREGADO SC      Customer   \n",
       "4              Víctor Adrián del Ángel Espinosa      Customer   \n",
       "5              Víctor Adrián del Ángel Espinosa      Customer   \n",
       "6               Formas e Imágenes, S.A. de C.V.      Customer   \n",
       "\n",
       "                     invoiceDescription  invoiceTotal  invoiceBalance  \\\n",
       "0                Sand and gravel bases          80032           80032   \n",
       "1                                 Metal         10000               0   \n",
       "2  Metal structures in foundation masks        168906          100000   \n",
       "3               Monolithic  foundations        435800          230000   \n",
       "4               Heat and waterproofing          35000           15000   \n",
       "5                    Subfloor elements          40000            4000   \n",
       "6               Heat and waterproofing          50000           25000   \n",
       "\n",
       "   TotalDueAmount  \n",
       "0               0  \n",
       "1           10000  \n",
       "2           68906  \n",
       "3          205800  \n",
       "4           20000  \n",
       "5           36000  \n",
       "6           25000  "
      ]
     },
     "execution_count": 56,
     "metadata": {},
     "output_type": "execute_result"
    }
   ],
   "source": [
    "# Query and display records from two different tables for customers (not suppliers), finally add a new column with\n",
    "#the difference of the invoice total and the amount that has been paid\n",
    "\n",
    "# Prepare the query String\n",
    "qry2=pd.read_sql_query(\"SELECT Company.companyName,Company.companyTypeID,Invoice.invoiceDescription,Invoice.invoiceTotal,Invoice.invoiceBalance, Invoice.invoiceTotal-Invoice.invoiceBalance AS TotalDueAmount FROM Company LEFT JOIN Invoice ON Invoice.companyRFC=Company.companyRFC WHERE Company.CompanyTypeID='Customer'\",conn)\n",
    "\n",
    "\"\"\"\n",
    "SELECT Company.companyName,Company.companyTypeID,Invoice.invoiceDescription,\n",
    "Invoice.invoiceTotal,Invoice.invoiceBalance, Invoice.invoiceTotal-Invoice.invoiceBalance AS TotalDueAmount\n",
    "FROM Company \n",
    "LEFT JOIN Invoice ON Invoice.companyRFC=Company.companyRFC \n",
    "WHERE Company.CompanyTypeID=\"Customer\"\n",
    "\"\"\"\n",
    "# Show the query ina Panda's Dataframe\n",
    "qry2                       "
   ]
  },
  {
   "cell_type": "code",
   "execution_count": 66,
   "metadata": {},
   "outputs": [
    {
     "data": {
      "text/html": [
       "<div>\n",
       "<style scoped>\n",
       "    .dataframe tbody tr th:only-of-type {\n",
       "        vertical-align: middle;\n",
       "    }\n",
       "\n",
       "    .dataframe tbody tr th {\n",
       "        vertical-align: top;\n",
       "    }\n",
       "\n",
       "    .dataframe thead th {\n",
       "        text-align: right;\n",
       "    }\n",
       "</style>\n",
       "<table border=\"1\" class=\"dataframe\">\n",
       "  <thead>\n",
       "    <tr style=\"text-align: right;\">\n",
       "      <th></th>\n",
       "      <th>companyName</th>\n",
       "      <th>CompanyTypeID</th>\n",
       "      <th>Total Invoices</th>\n",
       "      <th>Total Paid</th>\n",
       "      <th>Total Due Amount</th>\n",
       "    </tr>\n",
       "  </thead>\n",
       "  <tbody>\n",
       "    <tr>\n",
       "      <th>0</th>\n",
       "      <td>Formas e Imágenes, S.A. de C.V.</td>\n",
       "      <td>Customer</td>\n",
       "      <td>50000</td>\n",
       "      <td>25000</td>\n",
       "      <td>25000</td>\n",
       "    </tr>\n",
       "    <tr>\n",
       "      <th>1</th>\n",
       "      <td>PLUS DIGITAL, SA DE CV</td>\n",
       "      <td>Customer</td>\n",
       "      <td>80032</td>\n",
       "      <td>80032</td>\n",
       "      <td>0</td>\n",
       "    </tr>\n",
       "    <tr>\n",
       "      <th>2</th>\n",
       "      <td>SERVICIO DE CONSULTORIA DE VALOR AGREGADO SC</td>\n",
       "      <td>Customer</td>\n",
       "      <td>614706</td>\n",
       "      <td>330000</td>\n",
       "      <td>284706</td>\n",
       "    </tr>\n",
       "    <tr>\n",
       "      <th>3</th>\n",
       "      <td>Víctor Adrián del Ángel Espinosa</td>\n",
       "      <td>Customer</td>\n",
       "      <td>75000</td>\n",
       "      <td>19000</td>\n",
       "      <td>56000</td>\n",
       "    </tr>\n",
       "  </tbody>\n",
       "</table>\n",
       "</div>"
      ],
      "text/plain": [
       "                                    companyName CompanyTypeID  Total Invoices  \\\n",
       "0               Formas e Imágenes, S.A. de C.V.      Customer           50000   \n",
       "1                        PLUS DIGITAL, SA DE CV      Customer           80032   \n",
       "2  SERVICIO DE CONSULTORIA DE VALOR AGREGADO SC      Customer          614706   \n",
       "3              Víctor Adrián del Ángel Espinosa      Customer           75000   \n",
       "\n",
       "   Total Paid  Total Due Amount  \n",
       "0       25000             25000  \n",
       "1       80032                 0  \n",
       "2      330000            284706  \n",
       "3       19000             56000  "
      ]
     },
     "execution_count": 66,
     "metadata": {},
     "output_type": "execute_result"
    }
   ],
   "source": [
    "# Query and display records from two different tables for customers (not suppliers),  add a new column with\n",
    "#the difference of the invoice total and the amount that has been paid and SUM the Due Amount per Company\n",
    "\n",
    "# Prepare the query String\n",
    "qry3=pd.read_sql_query(\"SELECT Company.companyName,Company.companyTypeID,SUM(Invoice.invoiceTotal) AS 'Total Invoices',SUM(Invoice.invoiceBalance) AS 'Total Paid', SUM(Invoice.invoiceTotal-Invoice.invoiceBalance) AS 'Total Due Amount' FROM Company LEFT JOIN Invoice ON Invoice.companyRFC=Company.companyRFC WHERE Company.CompanyTypeID='Customer' GROUP BY companyName;\",conn)\n",
    "\n",
    "\"\"\"\n",
    "SELECT Company.companyName,Company.companyTypeID,\n",
    "SUM(Invoice.invoiceTotal) AS 'Total Invoices',SUM(Invoice.invoiceBalance) AS 'Total Paid', \n",
    "SUM(Invoice.invoiceTotal-Invoice.invoiceBalance) AS 'Total Due Amount'\n",
    "FROM Company \n",
    "LEFT JOIN Invoice ON Invoice.companyRFC=Company.companyRFC \n",
    "WHERE Company.CompanyTypeID=\"Customer\"\n",
    "GROUP BY companyName\n",
    "\"\"\"\n",
    "# Show the query ina Panda's Dataframe\n",
    "qry3"
   ]
  },
  {
   "cell_type": "markdown",
   "metadata": {},
   "source": [
    "### Update"
   ]
  },
  {
   "cell_type": "code",
   "execution_count": null,
   "metadata": {},
   "outputs": [],
   "source": []
  },
  {
   "cell_type": "code",
   "execution_count": 105,
   "metadata": {},
   "outputs": [
    {
     "data": {
      "text/html": [
       "<div>\n",
       "<style scoped>\n",
       "    .dataframe tbody tr th:only-of-type {\n",
       "        vertical-align: middle;\n",
       "    }\n",
       "\n",
       "    .dataframe tbody tr th {\n",
       "        vertical-align: top;\n",
       "    }\n",
       "\n",
       "    .dataframe thead th {\n",
       "        text-align: right;\n",
       "    }\n",
       "</style>\n",
       "<table border=\"1\" class=\"dataframe\">\n",
       "  <thead>\n",
       "    <tr style=\"text-align: right;\">\n",
       "      <th></th>\n",
       "      <th>invoiceID</th>\n",
       "      <th>companyRFC</th>\n",
       "      <th>projectID</th>\n",
       "      <th>invoiceDescription</th>\n",
       "      <th>invoiceDate</th>\n",
       "      <th>invoiceTotal</th>\n",
       "      <th>invoiceBalance</th>\n",
       "      <th>invoiceMethod</th>\n",
       "      <th>invoicetaxRate</th>\n",
       "    </tr>\n",
       "  </thead>\n",
       "  <tbody>\n",
       "    <tr>\n",
       "      <th>0</th>\n",
       "      <td>16</td>\n",
       "      <td>S&amp;S021003TBA</td>\n",
       "      <td>2</td>\n",
       "      <td>Sand</td>\n",
       "      <td>01/04/2021</td>\n",
       "      <td>10000</td>\n",
       "      <td>1100</td>\n",
       "      <td>Wire Transfer</td>\n",
       "      <td>0.16</td>\n",
       "    </tr>\n",
       "  </tbody>\n",
       "</table>\n",
       "</div>"
      ],
      "text/plain": [
       "   invoiceID    companyRFC  projectID invoiceDescription invoiceDate  \\\n",
       "0         16  S&S021003TBA          2               Sand  01/04/2021   \n",
       "\n",
       "   invoiceTotal  invoiceBalance  invoiceMethod  invoicetaxRate  \n",
       "0         10000            1100  Wire Transfer            0.16  "
      ]
     },
     "execution_count": 105,
     "metadata": {},
     "output_type": "execute_result"
    }
   ],
   "source": [
    "# We will Update the last invoice created\n",
    "qry4=pd.read_sql_query(\"select * from Invoice order by invoiceID desc limit 1;\",conn)\n",
    "qry4"
   ]
  },
  {
   "cell_type": "code",
   "execution_count": null,
   "metadata": {},
   "outputs": [],
   "source": [
    "inputinvoiceID=int(input('Which invoice you want to pay?:'))\n",
    "inputinvoiceAmount=int(input('Amount:'))\n",
    "inputinvoiceBalance\n",
    "\n",
    "qry5='update Invoice set invoiceBalance=? where invoiceID=?'\n",
    "\n",
    "\n",
    "try:\n",
    "        cur.execute(qry5, (inputinvoiceAmount+inputinvoiceBalance,inputinvoiceID))\n",
    "        print ('Payment successfully registered')\n",
    "        conn.commit()\n",
    "except:\n",
    "        print ('Error please check your info .. rollback')\n",
    "        conn.rollback()"
   ]
  },
  {
   "cell_type": "code",
   "execution_count": null,
   "metadata": {},
   "outputs": [],
   "source": [
    "# Invoice Updated\n",
    "qry6=pd.read_sql_query(\"select * from Invoice order by invoiceID desc limit 1;\",conn)\n",
    "qry6"
   ]
  },
  {
   "cell_type": "code",
   "execution_count": 164,
   "metadata": {},
   "outputs": [
    {
     "name": "stdout",
     "output_type": "stream",
     "text": [
      "(100,)\n"
     ]
    },
    {
     "data": {
      "text/plain": [
       "101"
      ]
     },
     "execution_count": 164,
     "metadata": {},
     "output_type": "execute_result"
    }
   ],
   "source": [
    "a=\"select Invoice.invoiceBalance from Invoice where invoiceID=16;\"\n",
    "\n",
    "\n",
    "#qry=\"select * from Invoice where departmentID=?\";\n",
    "cur.execute(a)\n",
    "row=cur.fetchone()\n",
    "print (row)\n",
    "type(row)\n",
    "e=row[0]\n",
    "e+1\n",
    "\n"
   ]
  },
  {
   "cell_type": "code",
   "execution_count": null,
   "metadata": {},
   "outputs": [],
   "source": [
    "inputinvoiceID=int(input('Which invoice you want to pay?:'))\n",
    "inputinvoiceAmount=int(input('Amount:'))\n",
    "inputinvoiceBalance\n",
    "\n",
    "qry5='update Invoice set invoiceBalance=? where invoiceID=?'\n",
    "\n",
    "\n",
    "try:\n",
    "        cur.execute(qry5, (inputinvoiceAmount+inputinvoiceBalance,inputinvoiceID))\n",
    "        print ('Payment successfully registered')\n",
    "        conn.commit()\n",
    "except:\n",
    "        print ('Error please check your info .. rollback')\n",
    "        conn.rollback()"
   ]
  },
  {
   "cell_type": "code",
   "execution_count": null,
   "metadata": {},
   "outputs": [],
   "source": []
  }
 ],
 "metadata": {
  "kernelspec": {
   "display_name": "Python 3",
   "language": "python",
   "name": "python3"
  },
  "language_info": {
   "codemirror_mode": {
    "name": "ipython",
    "version": 3
   },
   "file_extension": ".py",
   "mimetype": "text/x-python",
   "name": "python",
   "nbconvert_exporter": "python",
   "pygments_lexer": "ipython3",
   "version": "3.8.5"
  }
 },
 "nbformat": 4,
 "nbformat_minor": 4
}
