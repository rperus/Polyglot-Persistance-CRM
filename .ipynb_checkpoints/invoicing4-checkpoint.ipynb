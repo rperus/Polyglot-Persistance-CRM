{
 "cells": [
  {
   "cell_type": "markdown",
   "metadata": {},
   "source": [
    "# BEMM459J - Database Technologies for Business Analytics"
   ]
  },
  {
   "cell_type": "code",
   "execution_count": 1,
   "metadata": {},
   "outputs": [
    {
     "name": "stdout",
     "output_type": "stream",
     "text": [
      "<class 'sqlite3.Cursor'>\n",
      "3.33.0\n"
     ]
    }
   ],
   "source": [
    "# Import library\n",
    "import sqlite3\n",
    "import pandas as pd\n",
    "import matplotlib.pyplot as plt\n",
    "\n",
    "# Connect to the Database\n",
    "conn=sqlite3.connect('invoicing.db')\n",
    "cur=conn.cursor()\n",
    "print(type(cur))\n",
    "print (sqlite3.sqlite_version)"
   ]
  },
  {
   "cell_type": "markdown",
   "metadata": {},
   "source": [
    "### Show Tables"
   ]
  },
  {
   "cell_type": "code",
   "execution_count": 58,
   "metadata": {
    "scrolled": true
   },
   "outputs": [
    {
     "name": "stdout",
     "output_type": "stream",
     "text": [
      "['Project', 'CompanyType', 'Company', 'Contact', 'ProductsServices', 'Invoice_ProductsServices', 'Invoice']\n"
     ]
    }
   ],
   "source": [
    "# List of all tables\n",
    "\n",
    "def tables_in_sqlite_db(conn):\n",
    "    cursor = conn.execute(\"SELECT name FROM sqlite_master WHERE type='table';\")\n",
    "    tables = [\n",
    "        v[0] for v in cursor.fetchall()\n",
    "        if v[0] != \"sqlite_sequence\"\n",
    "    ]\n",
    "\n",
    "    cursor.close()\n",
    "    return tables\n",
    "\n",
    "tables = tables_in_sqlite_db(conn)\n",
    "#print tables\n",
    "print(tables)"
   ]
  },
  {
   "cell_type": "markdown",
   "metadata": {},
   "source": [
    "## SQL - CRUD operations (Create, Read, Update, Delete)\n"
   ]
  },
  {
   "cell_type": "markdown",
   "metadata": {},
   "source": [
    "DML(Data Manipulation Language) & TCL(transaction Control Language)"
   ]
  },
  {
   "cell_type": "markdown",
   "metadata": {},
   "source": [
    "### Create"
   ]
  },
  {
   "cell_type": "code",
   "execution_count": 71,
   "metadata": {},
   "outputs": [
    {
     "name": "stdout",
     "output_type": "stream",
     "text": [
      "Enter company identifier (RFC):PDI020320KF4\n",
      "Enter Project number:1\n",
      "Enter invoice description:Concrete Structure\n",
      "Enter invoice date:01/01/2020\n",
      "Enter invoice total:10000\n",
      "Enter paid amount:5000\n",
      "New invoice successfully added\n"
     ]
    }
   ],
   "source": [
    "# Add a ner invoice\n",
    "\n",
    "inputcompanyRFC=input('Enter company identifier (RFC):')\n",
    "inputprojectID=int(input('Enter Project number:'))\n",
    "inputinvoiceDescription=input('Enter invoice description:')\n",
    "inputinvoiceDate=input('Enter invoice date:')\n",
    "inputinvoiceTotal=int(input('Enter invoice total:'))\n",
    "inputinvoiceBalance=int(input('Enter paid amount:'))         \n",
    "\n",
    "\n",
    "qry=\"insert into Invoice (companyRFC,projectID,invoiceDescription,invoiceDate,invoiceTotal,invoiceBalance) values (?,?,?,?,?,?);\"\n",
    "\n",
    "try:\n",
    "        cur.execute(qry, (inputcompanyRFC,inputprojectID,inputinvoiceDescription,inputinvoiceDate,inputinvoiceTotal,inputinvoiceBalance))\n",
    "        print ('New invoice successfully added')\n",
    "        conn.commit()\n",
    "except:\n",
    "        print ('Error in adding invoice')\n",
    "        conn.rollback()"
   ]
  },
  {
   "cell_type": "code",
   "execution_count": 72,
   "metadata": {},
   "outputs": [
    {
     "name": "stdout",
     "output_type": "stream",
     "text": [
      "[(24, 'PDI020320KF4', 1, 'Concrete Structure', '01/01/2020', 10000, 5000, 'Wire Transfer', 0.16)]\n"
     ]
    }
   ],
   "source": [
    "# Query and display tha last invoice created\n",
    "\n",
    "# Query to show one invoice orderd by InvoiceID in desc order\n",
    "qry=\"select * from Invoice order by invoiceID desc limit 1;\"\n",
    "\n",
    "# Execute the query on SQLite\n",
    "cur.execute(qry)\n",
    "\n",
    "# Fetch and display \n",
    "row=cur.fetchall()\n",
    "\n",
    "print (row)"
   ]
  },
  {
   "cell_type": "markdown",
   "metadata": {},
   "source": [
    "### Read"
   ]
  },
  {
   "cell_type": "markdown",
   "metadata": {},
   "source": [
    "Show customer´s invoices and the amount they have to pay.  "
   ]
  },
  {
   "cell_type": "code",
   "execution_count": 73,
   "metadata": {},
   "outputs": [
    {
     "data": {
      "text/html": [
       "<div>\n",
       "<style scoped>\n",
       "    .dataframe tbody tr th:only-of-type {\n",
       "        vertical-align: middle;\n",
       "    }\n",
       "\n",
       "    .dataframe tbody tr th {\n",
       "        vertical-align: top;\n",
       "    }\n",
       "\n",
       "    .dataframe thead th {\n",
       "        text-align: right;\n",
       "    }\n",
       "</style>\n",
       "<table border=\"1\" class=\"dataframe\">\n",
       "  <thead>\n",
       "    <tr style=\"text-align: right;\">\n",
       "      <th></th>\n",
       "      <th>companyName</th>\n",
       "      <th>CompanyTypeID</th>\n",
       "      <th>invoiceDescription</th>\n",
       "      <th>invoiceTotal</th>\n",
       "      <th>invoiceBalance</th>\n",
       "      <th>TotalDueAmount</th>\n",
       "    </tr>\n",
       "  </thead>\n",
       "  <tbody>\n",
       "    <tr>\n",
       "      <th>0</th>\n",
       "      <td>PLUS DIGITAL, SA DE CV</td>\n",
       "      <td>Customer</td>\n",
       "      <td>Concrete Structure</td>\n",
       "      <td>10000</td>\n",
       "      <td>5000</td>\n",
       "      <td>5000</td>\n",
       "    </tr>\n",
       "    <tr>\n",
       "      <th>1</th>\n",
       "      <td>PLUS DIGITAL, SA DE CV</td>\n",
       "      <td>Customer</td>\n",
       "      <td>Sand and gravel bases</td>\n",
       "      <td>80032</td>\n",
       "      <td>80000</td>\n",
       "      <td>32</td>\n",
       "    </tr>\n",
       "    <tr>\n",
       "      <th>2</th>\n",
       "      <td>SERVICIO DE CONSULTORIA DE VALOR AGREGADO SC</td>\n",
       "      <td>Customer</td>\n",
       "      <td>Metal</td>\n",
       "      <td>10000</td>\n",
       "      <td>0</td>\n",
       "      <td>10000</td>\n",
       "    </tr>\n",
       "    <tr>\n",
       "      <th>3</th>\n",
       "      <td>SERVICIO DE CONSULTORIA DE VALOR AGREGADO SC</td>\n",
       "      <td>Customer</td>\n",
       "      <td>Metal structures in foundation masks</td>\n",
       "      <td>168906</td>\n",
       "      <td>100000</td>\n",
       "      <td>68906</td>\n",
       "    </tr>\n",
       "    <tr>\n",
       "      <th>4</th>\n",
       "      <td>SERVICIO DE CONSULTORIA DE VALOR AGREGADO SC</td>\n",
       "      <td>Customer</td>\n",
       "      <td>Monolithic  foundations</td>\n",
       "      <td>435800</td>\n",
       "      <td>230000</td>\n",
       "      <td>205800</td>\n",
       "    </tr>\n",
       "    <tr>\n",
       "      <th>5</th>\n",
       "      <td>Víctor Adrián del Ángel Espinosa</td>\n",
       "      <td>Customer</td>\n",
       "      <td>Heat and waterproofing</td>\n",
       "      <td>35000</td>\n",
       "      <td>15000</td>\n",
       "      <td>20000</td>\n",
       "    </tr>\n",
       "    <tr>\n",
       "      <th>6</th>\n",
       "      <td>Víctor Adrián del Ángel Espinosa</td>\n",
       "      <td>Customer</td>\n",
       "      <td>Subfloor elements</td>\n",
       "      <td>40000</td>\n",
       "      <td>4000</td>\n",
       "      <td>36000</td>\n",
       "    </tr>\n",
       "    <tr>\n",
       "      <th>7</th>\n",
       "      <td>Formas e Imágenes, S.A. de C.V.</td>\n",
       "      <td>Customer</td>\n",
       "      <td>Heat and waterproofing</td>\n",
       "      <td>50000</td>\n",
       "      <td>25000</td>\n",
       "      <td>25000</td>\n",
       "    </tr>\n",
       "    <tr>\n",
       "      <th>8</th>\n",
       "      <td>AGROCOSTA DE BAJA CALIFORNIA, S.A. DE C.V.</td>\n",
       "      <td>Customer</td>\n",
       "      <td>Desarrollo Plano</td>\n",
       "      <td>5916</td>\n",
       "      <td>1000</td>\n",
       "      <td>4916</td>\n",
       "    </tr>\n",
       "    <tr>\n",
       "      <th>9</th>\n",
       "      <td>AZTECA AUTOTRANSPORTES DE CARGA</td>\n",
       "      <td>Customer</td>\n",
       "      <td>Desarrollo Tuberia</td>\n",
       "      <td>14000</td>\n",
       "      <td>500</td>\n",
       "      <td>13500</td>\n",
       "    </tr>\n",
       "    <tr>\n",
       "      <th>10</th>\n",
       "      <td>SERVICIOS AMBIENTALES S.A DE R.L.D</td>\n",
       "      <td>Customer</td>\n",
       "      <td>Concrete Structures</td>\n",
       "      <td>250000</td>\n",
       "      <td>100000</td>\n",
       "      <td>150000</td>\n",
       "    </tr>\n",
       "  </tbody>\n",
       "</table>\n",
       "</div>"
      ],
      "text/plain": [
       "                                     companyName CompanyTypeID  \\\n",
       "0                         PLUS DIGITAL, SA DE CV      Customer   \n",
       "1                         PLUS DIGITAL, SA DE CV      Customer   \n",
       "2   SERVICIO DE CONSULTORIA DE VALOR AGREGADO SC      Customer   \n",
       "3   SERVICIO DE CONSULTORIA DE VALOR AGREGADO SC      Customer   \n",
       "4   SERVICIO DE CONSULTORIA DE VALOR AGREGADO SC      Customer   \n",
       "5               Víctor Adrián del Ángel Espinosa      Customer   \n",
       "6               Víctor Adrián del Ángel Espinosa      Customer   \n",
       "7                Formas e Imágenes, S.A. de C.V.      Customer   \n",
       "8     AGROCOSTA DE BAJA CALIFORNIA, S.A. DE C.V.      Customer   \n",
       "9                AZTECA AUTOTRANSPORTES DE CARGA      Customer   \n",
       "10            SERVICIOS AMBIENTALES S.A DE R.L.D      Customer   \n",
       "\n",
       "                      invoiceDescription  invoiceTotal  invoiceBalance  \\\n",
       "0                     Concrete Structure         10000            5000   \n",
       "1                 Sand and gravel bases          80032           80000   \n",
       "2                                  Metal         10000               0   \n",
       "3   Metal structures in foundation masks        168906          100000   \n",
       "4                Monolithic  foundations        435800          230000   \n",
       "5                Heat and waterproofing          35000           15000   \n",
       "6                     Subfloor elements          40000            4000   \n",
       "7                Heat and waterproofing          50000           25000   \n",
       "8                       Desarrollo Plano          5916            1000   \n",
       "9                     Desarrollo Tuberia         14000             500   \n",
       "10                   Concrete Structures        250000          100000   \n",
       "\n",
       "    TotalDueAmount  \n",
       "0             5000  \n",
       "1               32  \n",
       "2            10000  \n",
       "3            68906  \n",
       "4           205800  \n",
       "5            20000  \n",
       "6            36000  \n",
       "7            25000  \n",
       "8             4916  \n",
       "9            13500  \n",
       "10          150000  "
      ]
     },
     "execution_count": 73,
     "metadata": {},
     "output_type": "execute_result"
    }
   ],
   "source": [
    "# Query and display records from two different tables for customers (not suppliers), finally add a new column with\n",
    "#the difference of the invoice total and the amount that has been paid\n",
    "\n",
    "# Prepare the query String\n",
    "qry2=pd.read_sql_query(\"SELECT Company.companyName,Company.companyTypeID,Invoice.invoiceDescription,Invoice.invoiceTotal,Invoice.invoiceBalance, Invoice.invoiceTotal-Invoice.invoiceBalance AS TotalDueAmount FROM Company LEFT JOIN Invoice ON Invoice.companyRFC=Company.companyRFC WHERE Company.CompanyTypeID='Customer'\",conn)\n",
    "\n",
    "\"\"\"\n",
    "SELECT Company.companyName,Company.companyTypeID,Invoice.invoiceDescription,\n",
    "Invoice.invoiceTotal,Invoice.invoiceBalance, Invoice.invoiceTotal-Invoice.invoiceBalance AS TotalDueAmount\n",
    "FROM Company \n",
    "LEFT JOIN Invoice ON Invoice.companyRFC=Company.companyRFC \n",
    "WHERE Company.CompanyTypeID=\"Customer\"\n",
    "\"\"\"\n",
    "# Show the query ina Panda's Dataframe\n",
    "qry2                       "
   ]
  },
  {
   "cell_type": "code",
   "execution_count": 74,
   "metadata": {},
   "outputs": [
    {
     "data": {
      "text/html": [
       "<div>\n",
       "<style scoped>\n",
       "    .dataframe tbody tr th:only-of-type {\n",
       "        vertical-align: middle;\n",
       "    }\n",
       "\n",
       "    .dataframe tbody tr th {\n",
       "        vertical-align: top;\n",
       "    }\n",
       "\n",
       "    .dataframe thead th {\n",
       "        text-align: right;\n",
       "    }\n",
       "</style>\n",
       "<table border=\"1\" class=\"dataframe\">\n",
       "  <thead>\n",
       "    <tr style=\"text-align: right;\">\n",
       "      <th></th>\n",
       "      <th>companyName</th>\n",
       "      <th>CompanyTypeID</th>\n",
       "      <th>Total Invoices</th>\n",
       "      <th>Total Paid</th>\n",
       "      <th>Total Due Amount</th>\n",
       "    </tr>\n",
       "  </thead>\n",
       "  <tbody>\n",
       "    <tr>\n",
       "      <th>0</th>\n",
       "      <td>AGROCOSTA DE BAJA CALIFORNIA, S.A. DE C.V.</td>\n",
       "      <td>Customer</td>\n",
       "      <td>5916</td>\n",
       "      <td>1000</td>\n",
       "      <td>4916</td>\n",
       "    </tr>\n",
       "    <tr>\n",
       "      <th>1</th>\n",
       "      <td>AZTECA AUTOTRANSPORTES DE CARGA</td>\n",
       "      <td>Customer</td>\n",
       "      <td>14000</td>\n",
       "      <td>500</td>\n",
       "      <td>13500</td>\n",
       "    </tr>\n",
       "    <tr>\n",
       "      <th>2</th>\n",
       "      <td>Formas e Imágenes, S.A. de C.V.</td>\n",
       "      <td>Customer</td>\n",
       "      <td>50000</td>\n",
       "      <td>25000</td>\n",
       "      <td>25000</td>\n",
       "    </tr>\n",
       "    <tr>\n",
       "      <th>3</th>\n",
       "      <td>PLUS DIGITAL, SA DE CV</td>\n",
       "      <td>Customer</td>\n",
       "      <td>90032</td>\n",
       "      <td>85000</td>\n",
       "      <td>5032</td>\n",
       "    </tr>\n",
       "    <tr>\n",
       "      <th>4</th>\n",
       "      <td>SERVICIO DE CONSULTORIA DE VALOR AGREGADO SC</td>\n",
       "      <td>Customer</td>\n",
       "      <td>614706</td>\n",
       "      <td>330000</td>\n",
       "      <td>284706</td>\n",
       "    </tr>\n",
       "    <tr>\n",
       "      <th>5</th>\n",
       "      <td>SERVICIOS AMBIENTALES S.A DE R.L.D</td>\n",
       "      <td>Customer</td>\n",
       "      <td>250000</td>\n",
       "      <td>100000</td>\n",
       "      <td>150000</td>\n",
       "    </tr>\n",
       "    <tr>\n",
       "      <th>6</th>\n",
       "      <td>Víctor Adrián del Ángel Espinosa</td>\n",
       "      <td>Customer</td>\n",
       "      <td>75000</td>\n",
       "      <td>19000</td>\n",
       "      <td>56000</td>\n",
       "    </tr>\n",
       "  </tbody>\n",
       "</table>\n",
       "</div>"
      ],
      "text/plain": [
       "                                    companyName CompanyTypeID  Total Invoices  \\\n",
       "0    AGROCOSTA DE BAJA CALIFORNIA, S.A. DE C.V.      Customer            5916   \n",
       "1               AZTECA AUTOTRANSPORTES DE CARGA      Customer           14000   \n",
       "2               Formas e Imágenes, S.A. de C.V.      Customer           50000   \n",
       "3                        PLUS DIGITAL, SA DE CV      Customer           90032   \n",
       "4  SERVICIO DE CONSULTORIA DE VALOR AGREGADO SC      Customer          614706   \n",
       "5            SERVICIOS AMBIENTALES S.A DE R.L.D      Customer          250000   \n",
       "6              Víctor Adrián del Ángel Espinosa      Customer           75000   \n",
       "\n",
       "   Total Paid  Total Due Amount  \n",
       "0        1000              4916  \n",
       "1         500             13500  \n",
       "2       25000             25000  \n",
       "3       85000              5032  \n",
       "4      330000            284706  \n",
       "5      100000            150000  \n",
       "6       19000             56000  "
      ]
     },
     "execution_count": 74,
     "metadata": {},
     "output_type": "execute_result"
    }
   ],
   "source": [
    "# Query and display records from two different tables for customers (not suppliers),  add a new column with\n",
    "#the difference of the invoice total and the amount that has been paid and SUM the Due Amount per Company\n",
    "\n",
    "# Prepare the query String\n",
    "qry3=pd.read_sql_query(\"SELECT Company.companyName,Company.companyTypeID,SUM(Invoice.invoiceTotal) AS 'Total Invoices',SUM(Invoice.invoiceBalance) AS 'Total Paid', SUM(Invoice.invoiceTotal-Invoice.invoiceBalance) AS 'Total Due Amount' FROM Company LEFT JOIN Invoice ON Invoice.companyRFC=Company.companyRFC WHERE Company.CompanyTypeID='Customer' GROUP BY companyName;\",conn)\n",
    "\n",
    "\"\"\"\n",
    "SELECT Company.companyName,Company.companyTypeID,\n",
    "SUM(Invoice.invoiceTotal) AS 'Total Invoices',SUM(Invoice.invoiceBalance) AS 'Total Paid', \n",
    "SUM(Invoice.invoiceTotal-Invoice.invoiceBalance) AS 'Total Due Amount'\n",
    "FROM Company \n",
    "LEFT JOIN Invoice ON Invoice.companyRFC=Company.companyRFC \n",
    "WHERE Company.CompanyTypeID=\"Customer\"\n",
    "GROUP BY companyName\n",
    "\"\"\"\n",
    "# Show the query ina Panda's Dataframe\n",
    "qry3"
   ]
  },
  {
   "cell_type": "markdown",
   "metadata": {},
   "source": [
    "### Data visualisation with Pandas "
   ]
  },
  {
   "cell_type": "code",
   "execution_count": 75,
   "metadata": {},
   "outputs": [
    {
     "data": {
      "text/html": [
       "<div>\n",
       "<style scoped>\n",
       "    .dataframe tbody tr th:only-of-type {\n",
       "        vertical-align: middle;\n",
       "    }\n",
       "\n",
       "    .dataframe tbody tr th {\n",
       "        vertical-align: top;\n",
       "    }\n",
       "\n",
       "    .dataframe thead th {\n",
       "        text-align: right;\n",
       "    }\n",
       "</style>\n",
       "<table border=\"1\" class=\"dataframe\">\n",
       "  <thead>\n",
       "    <tr style=\"text-align: right;\">\n",
       "      <th></th>\n",
       "      <th>Total Due Amount</th>\n",
       "    </tr>\n",
       "    <tr>\n",
       "      <th>Company</th>\n",
       "      <th></th>\n",
       "    </tr>\n",
       "  </thead>\n",
       "  <tbody>\n",
       "    <tr>\n",
       "      <th>SERVICIO DE CONSULTORIA DE VALOR AGREGADO SC</th>\n",
       "      <td>284706</td>\n",
       "    </tr>\n",
       "    <tr>\n",
       "      <th>SERVICIOS AMBIENTALES S.A DE R.L.D</th>\n",
       "      <td>150000</td>\n",
       "    </tr>\n",
       "    <tr>\n",
       "      <th>Víctor Adrián del Ángel Espinosa</th>\n",
       "      <td>56000</td>\n",
       "    </tr>\n",
       "    <tr>\n",
       "      <th>Formas e Imágenes, S.A. de C.V.</th>\n",
       "      <td>25000</td>\n",
       "    </tr>\n",
       "    <tr>\n",
       "      <th>AZTECA AUTOTRANSPORTES DE CARGA</th>\n",
       "      <td>13500</td>\n",
       "    </tr>\n",
       "    <tr>\n",
       "      <th>PLUS DIGITAL, SA DE CV</th>\n",
       "      <td>5032</td>\n",
       "    </tr>\n",
       "    <tr>\n",
       "      <th>AGROCOSTA DE BAJA CALIFORNIA, S.A. DE C.V.</th>\n",
       "      <td>4916</td>\n",
       "    </tr>\n",
       "  </tbody>\n",
       "</table>\n",
       "</div>"
      ],
      "text/plain": [
       "                                              Total Due Amount\n",
       "Company                                                       \n",
       "SERVICIO DE CONSULTORIA DE VALOR AGREGADO SC            284706\n",
       "SERVICIOS AMBIENTALES S.A DE R.L.D                      150000\n",
       "Víctor Adrián del Ángel Espinosa                         56000\n",
       "Formas e Imágenes, S.A. de C.V.                          25000\n",
       "AZTECA AUTOTRANSPORTES DE CARGA                          13500\n",
       "PLUS DIGITAL, SA DE CV                                    5032\n",
       "AGROCOSTA DE BAJA CALIFORNIA, S.A. DE C.V.                4916"
      ]
     },
     "execution_count": 75,
     "metadata": {},
     "output_type": "execute_result"
    }
   ],
   "source": [
    "#Group by the user Company the sum the DueAmount\n",
    "ret=qry2.groupby(['companyName']).sum()[['TotalDueAmount']]\n",
    "#Change the name of the columns\n",
    "ret.columns = ['Total Due Amount']\n",
    "ret.index.names = ['Company']\n",
    "#Sort values by Total Due Amount\n",
    "ret_sorted=ret.sort_values(by='Total Due Amount',ascending=False)\n",
    "ret_sorted"
   ]
  },
  {
   "cell_type": "code",
   "execution_count": 77,
   "metadata": {},
   "outputs": [
    {
     "data": {
      "text/html": [
       "<div>\n",
       "<style scoped>\n",
       "    .dataframe tbody tr th:only-of-type {\n",
       "        vertical-align: middle;\n",
       "    }\n",
       "\n",
       "    .dataframe tbody tr th {\n",
       "        vertical-align: top;\n",
       "    }\n",
       "\n",
       "    .dataframe thead th {\n",
       "        text-align: right;\n",
       "    }\n",
       "</style>\n",
       "<table border=\"1\" class=\"dataframe\">\n",
       "  <thead>\n",
       "    <tr style=\"text-align: right;\">\n",
       "      <th></th>\n",
       "      <th>Total Due Amount</th>\n",
       "    </tr>\n",
       "    <tr>\n",
       "      <th>Company</th>\n",
       "      <th></th>\n",
       "    </tr>\n",
       "  </thead>\n",
       "  <tbody>\n",
       "    <tr>\n",
       "      <th>SERVICIO DE CONSULTORIA DE VALOR AGREGADO SC</th>\n",
       "      <td>284706</td>\n",
       "    </tr>\n",
       "    <tr>\n",
       "      <th>SERVICIOS AMBIENTALES S.A DE R.L.D</th>\n",
       "      <td>150000</td>\n",
       "    </tr>\n",
       "    <tr>\n",
       "      <th>Víctor Adrián del Ángel Espinosa</th>\n",
       "      <td>56000</td>\n",
       "    </tr>\n",
       "    <tr>\n",
       "      <th>Formas e Imágenes, S.A. de C.V.</th>\n",
       "      <td>25000</td>\n",
       "    </tr>\n",
       "    <tr>\n",
       "      <th>AZTECA AUTOTRANSPORTES DE CARGA</th>\n",
       "      <td>13500</td>\n",
       "    </tr>\n",
       "    <tr>\n",
       "      <th>Others</th>\n",
       "      <td>9948</td>\n",
       "    </tr>\n",
       "  </tbody>\n",
       "</table>\n",
       "</div>"
      ],
      "text/plain": [
       "                                              Total Due Amount\n",
       "Company                                                       \n",
       "SERVICIO DE CONSULTORIA DE VALOR AGREGADO SC            284706\n",
       "SERVICIOS AMBIENTALES S.A DE R.L.D                      150000\n",
       "Víctor Adrián del Ángel Espinosa                         56000\n",
       "Formas e Imágenes, S.A. de C.V.                          25000\n",
       "AZTECA AUTOTRANSPORTES DE CARGA                          13500\n",
       "Others                                                    9948"
      ]
     },
     "execution_count": 77,
     "metadata": {},
     "output_type": "execute_result"
    }
   ],
   "source": [
    "#Create a dataframe with top 5 companies with more Debt\n",
    "ret_sorted_5= ret_sorted[:5]\n",
    "ret_sorted_5\n",
    "#Create a dataframe with the rest of the companies\n",
    "ret_others_df= ret_sorted[5:]\n",
    "#Sum all the Companies other than the top 5\n",
    "Other_companies=ret_others_df['Total Due Amount'].sum()\n",
    "#Create a new row with the sum of all the Total Due Amount other than the top 5\n",
    "new_row = pd.DataFrame(data = {'Total Due Amount' : [Other_companies]},index=['Others'])\n",
    "#Create a new dataframe with the top 5 companies  by the Total Due Amount and the rest of the companies\n",
    "ret_final = pd.concat([ret_sorted_5, new_row])\n",
    "ret_final.index.names = ['Company']\n",
    "ret_final"
   ]
  },
  {
   "cell_type": "code",
   "execution_count": 78,
   "metadata": {},
   "outputs": [
    {
     "data": {
      "image/png": "[encoded data removed]",
      "text/plain": [
       "<Figure size 1152x576 with 1 Axes>"
      ]
     },
     "metadata": {},
     "output_type": "display_data"
    }
   ],
   "source": [
    "#Plot Top 5 most popular users by Total Due Amount.\n",
    "myexplode = [0, 0, 0, 0,0,.1]\n",
    "ret_final.plot.pie(subplots=True, figsize=(16, 8), explode = myexplode,legend=None, fontsize=14)\n",
    "plt.title('Top 5 Amount owed by company.', fontsize=19,  color='red')\n",
    "plt.ylabel(None)\n",
    "plt.show()"
   ]
  },
  {
   "cell_type": "markdown",
   "metadata": {},
   "source": [
    "### Update"
   ]
  },
  {
   "cell_type": "markdown",
   "metadata": {},
   "source": [
    "In this part we will choose an invoice and register a Payment."
   ]
  },
  {
   "cell_type": "code",
   "execution_count": 79,
   "metadata": {},
   "outputs": [
    {
     "data": {
      "text/html": [
       "<div>\n",
       "<style scoped>\n",
       "    .dataframe tbody tr th:only-of-type {\n",
       "        vertical-align: middle;\n",
       "    }\n",
       "\n",
       "    .dataframe tbody tr th {\n",
       "        vertical-align: top;\n",
       "    }\n",
       "\n",
       "    .dataframe thead th {\n",
       "        text-align: right;\n",
       "    }\n",
       "</style>\n",
       "<table border=\"1\" class=\"dataframe\">\n",
       "  <thead>\n",
       "    <tr style=\"text-align: right;\">\n",
       "      <th></th>\n",
       "      <th>invoiceID</th>\n",
       "      <th>companyRFC</th>\n",
       "      <th>projectID</th>\n",
       "      <th>invoiceDescription</th>\n",
       "      <th>invoiceDate</th>\n",
       "      <th>invoiceTotal</th>\n",
       "      <th>invoiceBalance</th>\n",
       "      <th>invoiceMethod</th>\n",
       "      <th>invoicetaxRate</th>\n",
       "    </tr>\n",
       "  </thead>\n",
       "  <tbody>\n",
       "    <tr>\n",
       "      <th>0</th>\n",
       "      <td>24</td>\n",
       "      <td>PDI020320KF4</td>\n",
       "      <td>1</td>\n",
       "      <td>Concrete Structure</td>\n",
       "      <td>01/01/2020</td>\n",
       "      <td>10000</td>\n",
       "      <td>5000</td>\n",
       "      <td>Wire Transfer</td>\n",
       "      <td>0.16</td>\n",
       "    </tr>\n",
       "  </tbody>\n",
       "</table>\n",
       "</div>"
      ],
      "text/plain": [
       "   invoiceID    companyRFC  projectID  invoiceDescription invoiceDate  \\\n",
       "0         24  PDI020320KF4          1  Concrete Structure  01/01/2020   \n",
       "\n",
       "   invoiceTotal  invoiceBalance  invoiceMethod  invoicetaxRate  \n",
       "0         10000            5000  Wire Transfer            0.16  "
      ]
     },
     "execution_count": 79,
     "metadata": {},
     "output_type": "execute_result"
    }
   ],
   "source": [
    "# We will Update the last invoice created\n",
    "qry4=pd.read_sql_query(\"select * from Invoice order by invoiceID desc limit 1;\",conn)\n",
    "qry4"
   ]
  },
  {
   "cell_type": "code",
   "execution_count": 80,
   "metadata": {},
   "outputs": [
    {
     "name": "stdout",
     "output_type": "stream",
     "text": [
      "Which invoice you want to pay?24\n",
      "Amount:2000\n",
      "New Balance: 7000\n",
      "Payment successfully registered\n"
     ]
    }
   ],
   "source": [
    "# Ask for the number of the invoice to modify and the amount that amount paid\n",
    "inputinvoiceID=int(input('Which invoice you want to pay?'))\n",
    "inputinvoiceAmount=int(input('Amount:'))\n",
    "\n",
    "#Extract the Current Balance from chosen invoice\n",
    "qr6=\"select Invoice.invoiceBalance from Invoice where invoiceID=?;\"\n",
    "current_balance=cur.execute(qr6,(inputinvoiceID,)).fetchone()[0]\n",
    "\n",
    "#Add the new amount paid to the current balance\n",
    "current_balance_plus_amount=current_balance+inputinvoiceAmount\n",
    "print('New Balance:',current_balance_plus_amount)\n",
    "\n",
    "#Update the new amount to the selected invoice\n",
    "qry5='update Invoice set invoiceBalance=? where invoiceID=?'\n",
    "\n",
    "try:\n",
    "         cur.execute(qry5, (current_balance_plus_amount,inputinvoiceID))\n",
    "         print ('Payment successfully registered')\n",
    "         conn.commit()\n",
    "except:\n",
    "         print ('Error please check your info .. rollback')\n",
    "         conn.rollback()"
   ]
  },
  {
   "cell_type": "code",
   "execution_count": 81,
   "metadata": {},
   "outputs": [
    {
     "data": {
      "text/html": [
       "<div>\n",
       "<style scoped>\n",
       "    .dataframe tbody tr th:only-of-type {\n",
       "        vertical-align: middle;\n",
       "    }\n",
       "\n",
       "    .dataframe tbody tr th {\n",
       "        vertical-align: top;\n",
       "    }\n",
       "\n",
       "    .dataframe thead th {\n",
       "        text-align: right;\n",
       "    }\n",
       "</style>\n",
       "<table border=\"1\" class=\"dataframe\">\n",
       "  <thead>\n",
       "    <tr style=\"text-align: right;\">\n",
       "      <th></th>\n",
       "      <th>invoiceID</th>\n",
       "      <th>companyRFC</th>\n",
       "      <th>projectID</th>\n",
       "      <th>invoiceDescription</th>\n",
       "      <th>invoiceDate</th>\n",
       "      <th>invoiceTotal</th>\n",
       "      <th>invoiceBalance</th>\n",
       "      <th>invoiceMethod</th>\n",
       "      <th>invoicetaxRate</th>\n",
       "    </tr>\n",
       "  </thead>\n",
       "  <tbody>\n",
       "    <tr>\n",
       "      <th>0</th>\n",
       "      <td>24</td>\n",
       "      <td>PDI020320KF4</td>\n",
       "      <td>1</td>\n",
       "      <td>Concrete Structure</td>\n",
       "      <td>01/01/2020</td>\n",
       "      <td>10000</td>\n",
       "      <td>7000</td>\n",
       "      <td>Wire Transfer</td>\n",
       "      <td>0.16</td>\n",
       "    </tr>\n",
       "  </tbody>\n",
       "</table>\n",
       "</div>"
      ],
      "text/plain": [
       "   invoiceID    companyRFC  projectID  invoiceDescription invoiceDate  \\\n",
       "0         24  PDI020320KF4          1  Concrete Structure  01/01/2020   \n",
       "\n",
       "   invoiceTotal  invoiceBalance  invoiceMethod  invoicetaxRate  \n",
       "0         10000            7000  Wire Transfer            0.16  "
      ]
     },
     "execution_count": 81,
     "metadata": {},
     "output_type": "execute_result"
    }
   ],
   "source": [
    "# Invoice Updated\n",
    "qry7=pd.read_sql_query(\"select * from Invoice order by invoiceID desc limit 1;\",conn)\n",
    "qry7"
   ]
  },
  {
   "cell_type": "markdown",
   "metadata": {},
   "source": [
    "### Delete"
   ]
  },
  {
   "cell_type": "markdown",
   "metadata": {},
   "source": [
    "In this part we will delete an invoice"
   ]
  },
  {
   "cell_type": "code",
   "execution_count": 82,
   "metadata": {},
   "outputs": [
    {
     "name": "stdout",
     "output_type": "stream",
     "text": [
      "Which invoice you want to delete?24\n",
      "Invoice successfully deleted\n"
     ]
    }
   ],
   "source": [
    "# Ask for the number of the invoice to Delete\n",
    "inputinvoiceID2=int(input('Which invoice you want to delete?'))\n",
    "\n",
    "#Delete the selected invoice\n",
    "qry8='delete from Invoice where invoiceID=?'\n",
    "\n",
    "try:\n",
    "         cur.execute(qry8, (inputinvoiceID2,))\n",
    "         print ('Invoice successfully deleted')\n",
    "         conn.commit()\n",
    "except:\n",
    "         print ('Error please check your info .. rollback')\n",
    "         conn.rollback()"
   ]
  },
  {
   "cell_type": "code",
   "execution_count": 83,
   "metadata": {},
   "outputs": [
    {
     "data": {
      "text/html": [
       "<div>\n",
       "<style scoped>\n",
       "    .dataframe tbody tr th:only-of-type {\n",
       "        vertical-align: middle;\n",
       "    }\n",
       "\n",
       "    .dataframe tbody tr th {\n",
       "        vertical-align: top;\n",
       "    }\n",
       "\n",
       "    .dataframe thead th {\n",
       "        text-align: right;\n",
       "    }\n",
       "</style>\n",
       "<table border=\"1\" class=\"dataframe\">\n",
       "  <thead>\n",
       "    <tr style=\"text-align: right;\">\n",
       "      <th></th>\n",
       "      <th>invoiceID</th>\n",
       "      <th>companyRFC</th>\n",
       "      <th>projectID</th>\n",
       "      <th>invoiceDescription</th>\n",
       "      <th>invoiceDate</th>\n",
       "      <th>invoiceTotal</th>\n",
       "      <th>invoiceBalance</th>\n",
       "      <th>invoiceMethod</th>\n",
       "      <th>invoicetaxRate</th>\n",
       "    </tr>\n",
       "  </thead>\n",
       "  <tbody>\n",
       "    <tr>\n",
       "      <th>0</th>\n",
       "      <td>19</td>\n",
       "      <td>ABC881019DE7</td>\n",
       "      <td>2</td>\n",
       "      <td>Desarrollo Plano</td>\n",
       "      <td>21/04/2021</td>\n",
       "      <td>5916</td>\n",
       "      <td>1000</td>\n",
       "      <td>Wire Transfer</td>\n",
       "      <td>0.16</td>\n",
       "    </tr>\n",
       "  </tbody>\n",
       "</table>\n",
       "</div>"
      ],
      "text/plain": [
       "   invoiceID    companyRFC  projectID invoiceDescription invoiceDate  \\\n",
       "0         19  ABC881019DE7          2   Desarrollo Plano  21/04/2021   \n",
       "\n",
       "   invoiceTotal  invoiceBalance  invoiceMethod  invoicetaxRate  \n",
       "0          5916            1000  Wire Transfer            0.16  "
      ]
     },
     "execution_count": 83,
     "metadata": {},
     "output_type": "execute_result"
    }
   ],
   "source": [
    "# Invoice Deleted\n",
    "qry9=pd.read_sql_query(\"select * from Invoice order by invoiceID desc limit 1;\",conn)\n",
    "qry9"
   ]
  },
  {
   "cell_type": "markdown",
   "metadata": {},
   "source": [
    "## NoSQL - CRUD operations (Create, Read, Update, Delete)"
   ]
  },
  {
   "cell_type": "code",
   "execution_count": 2,
   "metadata": {},
   "outputs": [],
   "source": [
    "import xml.etree.ElementTree as ET\n",
    "import pymongo\n"
   ]
  },
  {
   "cell_type": "code",
   "execution_count": 4,
   "metadata": {},
   "outputs": [
    {
     "name": "stdout",
     "output_type": "stream",
     "text": [
      "['admin', 'config', 'invoice', 'invoice1', 'invoice3', 'local', 'school', 'test1']\n"
     ]
    }
   ],
   "source": [
    "mongoclient = pymongo.MongoClient(\"mongodb://localhost:7001/\")\n",
    "\n",
    "#Check what databases exist \n",
    "print(mongoclient.list_database_names())"
   ]
  },
  {
   "cell_type": "code",
   "execution_count": 5,
   "metadata": {},
   "outputs": [],
   "source": [
    "#Create the Database and the Collection\n",
    "mydb = mongoclient[\"invoice3\"]\n",
    "mycol = mydb[\"invoices\"]\n"
   ]
  },
  {
   "cell_type": "markdown",
   "metadata": {},
   "source": [
    "## Create - Import an XML invoice to MongoDB"
   ]
  },
  {
   "cell_type": "markdown",
   "metadata": {},
   "source": [
    "Import real invoices with a Digital Signature made by the goverment. We will import the XML files into MongoDB,  and Insert that invoince into the SQL Database."
   ]
  },
  {
   "cell_type": "code",
   "execution_count": 17,
   "metadata": {},
   "outputs": [
    {
     "name": "stdout",
     "output_type": "stream",
     "text": [
      "Which invoice you want to import?Factura5.xml\n"
     ]
    }
   ],
   "source": [
    "#Choose the XML to be imported. In the future we will use an API from the goverment that drops the XML\n",
    "#files into a Hot folder, so this process will be automated\n",
    "inputinvoice_xml=input('Which invoice you want to import?')"
   ]
  },
  {
   "cell_type": "code",
   "execution_count": 18,
   "metadata": {
    "scrolled": false
   },
   "outputs": [
    {
     "name": "stdout",
     "output_type": "stream",
     "text": [
      "{'_id': ObjectId('60e9e1508086e9690c97c3d9'), 'Rfc': 'ISE010326TB3', 'Nombre': 'IW SERVICES, S.A. DE C.V.', 'ClaveProdServ': '72101500', 'Descripcion': 'Complemento del Desarrollo de Planos de Trayectorias Actinver Monterrey Piso 8\\n', 'TasaOCuota': '0.160000', 'Total': '63684.58', 'MetodoPago': 'PUE'}\n",
      "{'_id': ObjectId('60e9e2ceebb33de6fd84fa22'), 'Rfc': 'ISE010326TB3', 'Nombre': 'IW SERVICES, S.A. DE C.V.', 'ClaveProdServ': '72101500', 'Descripcion': 'Complemento del Desarrollo de Planos de Trayectorias Actinver Monterrey Piso 8\\n', 'TasaOCuota': '0.160000', 'Total': '63684.58', 'MetodoPago': 'PUE'}\n",
      "{'_id': ObjectId('60e9e4b5ebb33de6fd84fa23'), 'Rfc': 'ISE010326TB3', 'Nombre': 'IW SERVICES, S. A. DE C. V.', 'ClaveProdServ': '72101500', 'Descripcion': 'SUMINISTRO E INSTALACION', 'TasaOCuota': '0.160000', 'Total': '11136.00', 'MetodoPago': 'PUE'}\n",
      "{'_id': ObjectId('60e9e4cbebb33de6fd84fa24'), 'Rfc': 'IWA970411168', 'Nombre': 'INTERNATIONAL WARE SA DE CVz', 'ClaveProdServ': '72101500', 'Descripcion': 'CONCEPTO', 'TasaOCuota': '0.160000', 'Total': '10440.00', 'MetodoPago': 'PUE'}\n",
      "{'_id': ObjectId('60e9e4d8ebb33de6fd84fa25'), 'Rfc': 'IWA970411168', 'Nombre': 'INTERNATIONAL WARE SA DE CVz', 'ClaveProdServ': '72101500', 'Descripcion': 'CONCEPTO', 'TasaOCuota': '0.160000', 'Total': '12760.00', 'MetodoPago': 'PUE'}\n",
      "{'_id': ObjectId('60e9e4e8ebb33de6fd84fa26'), 'Rfc': 'SSC9205061AA', 'Nombre': 'SOFTTEK SERVICIOS CORPORATIVOS S.A. DE C.V.', 'ClaveProdServ': '64650100', 'Descripcion': 'PROYECTO PRELIMINAR INSTALACION ELECTRICA', 'TasaOCuota': '0.160000', 'Total': '12206.43', 'MetodoPago': 'PUE'}\n"
     ]
    },
    {
     "name": "stderr",
     "output_type": "stream",
     "text": [
      "<ipython-input-18-55b0b6eb4818>:21: DeprecationWarning: insert is deprecated. Use insert_one or insert_many instead.\n",
      "  x = mycol.insert(stu_dict)\n"
     ]
    }
   ],
   "source": [
    "#Convert the invoices in XML to JSON\n",
    "#Use the ElementTree module to parse a XML File\n",
    "#Use MongoDB connector module to connect the database\n",
    "tree = ET.parse(inputinvoice_xml)\n",
    "\n",
    "stud = tree.findall('cfdi_Receptor')\n",
    "\n",
    "for ep in stud:\n",
    "    Rfc = ep.find('Rfc').text\n",
    "    Nombre = ep.find('Nombre').text\n",
    "    ClaveProdServ = ep.find('ClaveProdServ').text\n",
    "    Descripcion = ep.find('Descripcion').text\n",
    "    TasaOCuota = ep.find('TasaOCuota').text\n",
    "    Total = ep.find('Total').text\n",
    "    MetodoPago = ep.find('MetodoPago').text\n",
    "    \n",
    "    stu_dict = [\n",
    "                {'Rfc': Rfc, 'Nombre': Nombre, 'ClaveProdServ': ClaveProdServ, 'Descripcion': Descripcion, 'TasaOCuota': TasaOCuota, 'Total': Total, 'MetodoPago': MetodoPago}\n",
    "               ]\n",
    "\n",
    "    x = mycol.insert(stu_dict)    \n",
    "\n",
    "for y in mycol.find():\n",
    "  print(y) "
   ]
  },
  {
   "cell_type": "markdown",
   "metadata": {},
   "source": [
    "Here we can Insert the newly imported XML invoice into the SQL Database"
   ]
  },
  {
   "cell_type": "code",
   "execution_count": null,
   "metadata": {},
   "outputs": [],
   "source": [
    "# Insert the invoice into SQL Database\n",
    "\n",
    "inputcompanyRFC=Rfc\n",
    "inputprojectID=int(input('Enter Project number:'))\n",
    "inputinvoiceDescription=Descripcion\n",
    "inputinvoiceDate='01/01/2020'\n",
    "inputinvoiceTotal=Total\n",
    "inputinvoiceBalance=0\n",
    "inputinvoiceStatus='NotCancelled'\n",
    "\n",
    "qry=\"insert into Invoice (companyRFC,projectID,invoiceDescription,invoiceDate,invoiceTotal,invoiceBalance) values (?,?,?,?,?,?);\"\n",
    "\n",
    "try:\n",
    "        cur.execute(qry, (inputcompanyRFC,inputprojectID,inputinvoiceDescription,inputinvoiceDate,inputinvoiceTotal,inputinvoiceBalance))\n",
    "        print ('New invoice successfully added')\n",
    "        conn.commit()\n",
    "except:\n",
    "        print ('Error in adding invoice')\n",
    "        conn.rollback()"
   ]
  },
  {
   "cell_type": "code",
   "execution_count": 20,
   "metadata": {},
   "outputs": [
    {
     "data": {
      "text/html": [
       "<div>\n",
       "<style scoped>\n",
       "    .dataframe tbody tr th:only-of-type {\n",
       "        vertical-align: middle;\n",
       "    }\n",
       "\n",
       "    .dataframe tbody tr th {\n",
       "        vertical-align: top;\n",
       "    }\n",
       "\n",
       "    .dataframe thead th {\n",
       "        text-align: right;\n",
       "    }\n",
       "</style>\n",
       "<table border=\"1\" class=\"dataframe\">\n",
       "  <thead>\n",
       "    <tr style=\"text-align: right;\">\n",
       "      <th></th>\n",
       "      <th>invoiceID</th>\n",
       "      <th>companyRFC</th>\n",
       "      <th>projectID</th>\n",
       "      <th>invoiceDescription</th>\n",
       "      <th>invoiceDate</th>\n",
       "      <th>invoiceTotal</th>\n",
       "      <th>invoiceBalance</th>\n",
       "      <th>invoiceMethod</th>\n",
       "      <th>invoicetaxRate</th>\n",
       "    </tr>\n",
       "  </thead>\n",
       "  <tbody>\n",
       "    <tr>\n",
       "      <th>0</th>\n",
       "      <td>30</td>\n",
       "      <td>SSC9205061AA</td>\n",
       "      <td>1</td>\n",
       "      <td>PROYECTO PRELIMINAR INSTALACION ELECTRICA</td>\n",
       "      <td>01/01/2020</td>\n",
       "      <td>12206.43</td>\n",
       "      <td>0</td>\n",
       "      <td>Wire Transfer</td>\n",
       "      <td>0.16</td>\n",
       "    </tr>\n",
       "  </tbody>\n",
       "</table>\n",
       "</div>"
      ],
      "text/plain": [
       "   invoiceID    companyRFC  projectID  \\\n",
       "0         30  SSC9205061AA          1   \n",
       "\n",
       "                          invoiceDescription invoiceDate  invoiceTotal  \\\n",
       "0  PROYECTO PRELIMINAR INSTALACION ELECTRICA  01/01/2020      12206.43   \n",
       "\n",
       "   invoiceBalance  invoiceMethod  invoicetaxRate  \n",
       "0               0  Wire Transfer            0.16  "
      ]
     },
     "execution_count": 20,
     "metadata": {},
     "output_type": "execute_result"
    }
   ],
   "source": [
    "# Here we can see the invoice inthe SQL Database. This is the last invoice created\n",
    "qry10=pd.read_sql_query(\"select * from Invoice order by invoiceID desc limit 1;\",conn)\n",
    "qry10"
   ]
  },
  {
   "cell_type": "markdown",
   "metadata": {},
   "source": [
    "## Query  and sorting documents"
   ]
  },
  {
   "cell_type": "markdown",
   "metadata": {},
   "source": [
    "Two examples of queries that can be made"
   ]
  },
  {
   "cell_type": "code",
   "execution_count": 6,
   "metadata": {},
   "outputs": [
    {
     "name": "stdout",
     "output_type": "stream",
     "text": [
      "{'Nombre': 'IW SERVICES, S.A. DE C.V.', 'Total': '63684.58'}\n",
      "{'Nombre': 'INTERNATIONAL WARE SA DE CVz', 'Total': '12760.00'}\n",
      "{'Nombre': 'SOFTTEK SERVICIOS CORPORATIVOS S.A. DE C.V.', 'Total': '12206.43'}\n",
      "{'Nombre': 'IW SERVICES, S. A. DE C. V.', 'Total': '11136.00'}\n",
      "{'Nombre': 'INTERNATIONAL WARE SA DE CVz', 'Total': '10440.00'}\n"
     ]
    }
   ],
   "source": [
    "#Show all the companies and total of all invoices sorting by descending order\n",
    "for x in mycol.find({},{ \"_id\":0, \"Nombre\":1, \"Total\":1}).sort(\"Total\",-1):\n",
    "    print(x)\n",
    "    \n",
    "    "
   ]
  },
  {
   "cell_type": "code",
   "execution_count": 20,
   "metadata": {},
   "outputs": [
    {
     "name": "stdout",
     "output_type": "stream",
     "text": [
      "What company you are looking for:SOFTTEK SERVICIOS CORPORATIVOS S.A. DE C.V.\n",
      "Enter the Total of the invoice:12206.43\n",
      "{'Nombre': 'SOFTTEK SERVICIOS CORPORATIVOS S.A. DE C.V.', 'Descripcion': 'PROYECTO PRELIMINAR INSTALACION ELECTRICA', 'Total': '12206.43'}\n"
     ]
    }
   ],
   "source": [
    "#Make a Query of a Specific Document and specific Amount\n",
    "\n",
    "inputcompany=input('What company you are looking for:')\n",
    "inputamount=input('Enter the Total of the invoice:')\n",
    "\n",
    "myquery = {\"Nombre\": inputcompany,\"Total\": inputamount }\n",
    "mydoc = mycol.find(myquery,{ \"_id\":0,\"Rfc\":0,\"TasaOCuota\":0,\"MetodoPago\":0,\"MetodoPago\":0,\"ClaveProdServ\":0,})\n",
    "\n",
    "for x in mydoc:\n",
    "    print(x)"
   ]
  },
  {
   "cell_type": "markdown",
   "metadata": {},
   "source": [
    "## Delete an Update"
   ]
  },
  {
   "cell_type": "markdown",
   "metadata": {},
   "source": [
    "I am showing how to delete and Update a documet for the assigment, but in the real application you should not be able to delete or update official invoices."
   ]
  },
  {
   "cell_type": "code",
   "execution_count": 140,
   "metadata": {},
   "outputs": [],
   "source": [
    "#This is just to show how to delete a document.\n",
    "myquery = { \"Rfc\": \"ISE010326TB3\" }\n",
    "mycol.delete_one(myquery)\n"
   ]
  },
  {
   "cell_type": "code",
   "execution_count": null,
   "metadata": {},
   "outputs": [],
   "source": [
    "#This is just to show how to update a document.\n",
    "#In the real application it is not allowed to change documents.\n",
    "# In fututre developments you will be able to change the status of an invoice to CANCELLED,\n",
    "# and avoid duplicates by comparing cryptographic hashes of the invoice digital signature.\n",
    "\n",
    "myquery = { \"Total\": \"11252.00\" }\n",
    "newvalues = { \"$set\": { \"Total\": \"12000.00\" } }\n",
    "mycol.update_one(myquery, newvalues)\n",
    "\n",
    "#print documents in the collection with the updated document.\n",
    "for x in mycol.find():\n",
    "    print(x)\n"
   ]
  }
 ],
 "metadata": {
  "kernelspec": {
   "display_name": "Python 3",
   "language": "python",
   "name": "python3"
  },
  "language_info": {
   "codemirror_mode": {
    "name": "ipython",
    "version": 3
   },
   "file_extension": ".py",
   "mimetype": "text/x-python",
   "name": "python",
   "nbconvert_exporter": "python",
   "pygments_lexer": "ipython3",
   "version": "3.8.5"
  }
 },
 "nbformat": 4,
 "nbformat_minor": 4
}
