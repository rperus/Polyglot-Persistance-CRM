{
 "cells": [
  {
   "cell_type": "markdown",
   "metadata": {},
   "source": [
    "# BEMM459J - Database Technologies for Business Analytics"
   ]
  },
  {
   "cell_type": "code",
   "execution_count": 1,
   "metadata": {},
   "outputs": [
    {
     "name": "stdout",
     "output_type": "stream",
     "text": [
      "<class 'sqlite3.Cursor'>\n",
      "3.33.0\n"
     ]
    }
   ],
   "source": [
    "# Import library\n",
    "import sqlite3\n",
    "import pandas as pd\n",
    "\n",
    "# Connect to the Database\n",
    "conn=sqlite3.connect('invoicing.db')\n",
    "cur=conn.cursor()\n",
    "print(type(cur))\n",
    "print (sqlite3.sqlite_version)"
   ]
  },
  {
   "cell_type": "markdown",
   "metadata": {},
   "source": [
    "## Show Tables"
   ]
  },
  {
   "cell_type": "code",
   "execution_count": 2,
   "metadata": {
    "scrolled": true
   },
   "outputs": [
    {
     "name": "stdout",
     "output_type": "stream",
     "text": [
      "['Project', 'CompanyType', 'Company', 'Contact', 'ProductsServices', 'Invoice_ProductsServices', 'Invoice']\n"
     ]
    }
   ],
   "source": [
    "# List of all tables\n",
    "\n",
    "def tables_in_sqlite_db(conn):\n",
    "    cursor = conn.execute(\"SELECT name FROM sqlite_master WHERE type='table';\")\n",
    "    tables = [\n",
    "        v[0] for v in cursor.fetchall()\n",
    "        if v[0] != \"sqlite_sequence\"\n",
    "    ]\n",
    "\n",
    "    cursor.close()\n",
    "    return tables\n",
    "\n",
    "tables = tables_in_sqlite_db(conn)\n",
    "#print tables\n",
    "print(tables)"
   ]
  },
  {
   "cell_type": "markdown",
   "metadata": {},
   "source": [
    "## CRUD operations (Create, Read, Update, Delete)\n"
   ]
  },
  {
   "cell_type": "markdown",
   "metadata": {},
   "source": [
    "### Create"
   ]
  },
  {
   "cell_type": "code",
   "execution_count": 3,
   "metadata": {},
   "outputs": [
    {
     "name": "stdout",
     "output_type": "stream",
     "text": [
      "Enter company identifier (RFC):\n",
      "Enter Project number:\n"
     ]
    },
    {
     "ename": "ValueError",
     "evalue": "invalid literal for int() with base 10: ''",
     "output_type": "error",
     "traceback": [
      "\u001b[1;31m---------------------------------------------------------------------------\u001b[0m",
      "\u001b[1;31mValueError\u001b[0m                                Traceback (most recent call last)",
      "\u001b[1;32m<ipython-input-3-a5cccda28edc>\u001b[0m in \u001b[0;36m<module>\u001b[1;34m\u001b[0m\n\u001b[0;32m      3\u001b[0m \u001b[1;33m\u001b[0m\u001b[0m\n\u001b[0;32m      4\u001b[0m \u001b[0minputcompanyRFC\u001b[0m\u001b[1;33m=\u001b[0m\u001b[0minput\u001b[0m\u001b[1;33m(\u001b[0m\u001b[1;34m'Enter company identifier (RFC):'\u001b[0m\u001b[1;33m)\u001b[0m\u001b[1;33m\u001b[0m\u001b[1;33m\u001b[0m\u001b[0m\n\u001b[1;32m----> 5\u001b[1;33m \u001b[0minputprojectID\u001b[0m\u001b[1;33m=\u001b[0m\u001b[0mint\u001b[0m\u001b[1;33m(\u001b[0m\u001b[0minput\u001b[0m\u001b[1;33m(\u001b[0m\u001b[1;34m'Enter Project number:'\u001b[0m\u001b[1;33m)\u001b[0m\u001b[1;33m)\u001b[0m\u001b[1;33m\u001b[0m\u001b[1;33m\u001b[0m\u001b[0m\n\u001b[0m\u001b[0;32m      6\u001b[0m \u001b[0minputinvoiceDescription\u001b[0m\u001b[1;33m=\u001b[0m\u001b[0minput\u001b[0m\u001b[1;33m(\u001b[0m\u001b[1;34m'Enter invoive description:'\u001b[0m\u001b[1;33m)\u001b[0m\u001b[1;33m\u001b[0m\u001b[1;33m\u001b[0m\u001b[0m\n\u001b[0;32m      7\u001b[0m \u001b[0minputinvoiceDate\u001b[0m\u001b[1;33m=\u001b[0m\u001b[0minput\u001b[0m\u001b[1;33m(\u001b[0m\u001b[1;34m'Enter invoice date:'\u001b[0m\u001b[1;33m)\u001b[0m\u001b[1;33m\u001b[0m\u001b[1;33m\u001b[0m\u001b[0m\n",
      "\u001b[1;31mValueError\u001b[0m: invalid literal for int() with base 10: ''"
     ]
    }
   ],
   "source": [
    "# Insert one record in table ECC_DEPARTMENT based on user input\n",
    "\n",
    "\n",
    "inputcompanyRFC=input('Enter company identifier (RFC):')\n",
    "inputprojectID=int(input('Enter Project number:'))\n",
    "inputinvoiceDescription=input('Enter invoive description:')\n",
    "inputinvoiceDate=input('Enter invoice date:')\n",
    "inputinvoiceTotal=int(input('Enter invoice total:'))\n",
    "inputinvoiceBalance=int(input('Enter paid amount:'))         \n",
    "\n",
    "\n",
    "qry=\"insert into Invoice (companyRFC,projectID,invoiceDescription,invoiceDate,invoiceTotal,invoiceBalance) values (?,?,?,?,?,?);\"\n",
    "\n",
    "try:\n",
    "        cur.execute(qry, (inputcompanyRFC,inputprojectID,inputinvoiceDescription,inputinvoiceDate,inputinvoiceTotal,inputinvoiceBalance))\n",
    "        print ('New invoice successfully added')\n",
    "        conn.commit()\n",
    "except:\n",
    "        print ('Error in adding invoice')\n",
    "        conn.rollback()"
   ]
  },
  {
   "cell_type": "code",
   "execution_count": null,
   "metadata": {},
   "outputs": [],
   "source": [
    "# Query and display tha last invoice created\n",
    "\n",
    "# Query to show one invoice orderd by InvoiceID in desc order\n",
    "qry=\"select * from Invoice order by invoiceID desc limit 1;\"\n",
    "\n",
    "# Execute the query on SQLite\n",
    "cur.execute(qry)\n",
    "\n",
    "# Fetch and display \n",
    "row=cur.fetchall()\n",
    "\n",
    "print (row)"
   ]
  },
  {
   "cell_type": "markdown",
   "metadata": {},
   "source": [
    "### Read"
   ]
  },
  {
   "cell_type": "markdown",
   "metadata": {},
   "source": [
    "Show customer´s invoices and the amount they have to pay.  "
   ]
  },
  {
   "cell_type": "code",
   "execution_count": null,
   "metadata": {},
   "outputs": [],
   "source": [
    "# Query and display records from two different tables for customers (not suppliers), finally add a new column with\n",
    "#the difference of the invoice total and the amount that has been paid\n",
    "\n",
    "# Prepare the query String\n",
    "qry2=pd.read_sql_query(\"SELECT Company.companyName,Company.companyTypeID,Invoice.invoiceDescription,Invoice.invoiceTotal,Invoice.invoiceBalance, Invoice.invoiceTotal-Invoice.invoiceBalance AS TotalDueAmount FROM Company LEFT JOIN Invoice ON Invoice.companyRFC=Company.companyRFC WHERE Company.CompanyTypeID='Customer'\",conn)\n",
    "\n",
    "\"\"\"\n",
    "SELECT Company.companyName,Company.companyTypeID,Invoice.invoiceDescription,\n",
    "Invoice.invoiceTotal,Invoice.invoiceBalance, Invoice.invoiceTotal-Invoice.invoiceBalance AS TotalDueAmount\n",
    "FROM Company \n",
    "LEFT JOIN Invoice ON Invoice.companyRFC=Company.companyRFC \n",
    "WHERE Company.CompanyTypeID=\"Customer\"\n",
    "\"\"\"\n",
    "# Show the query ina Panda's Dataframe\n",
    "qry2                       "
   ]
  },
  {
   "cell_type": "code",
   "execution_count": 4,
   "metadata": {},
   "outputs": [
    {
     "data": {
      "text/html": [
       "<div>\n",
       "<style scoped>\n",
       "    .dataframe tbody tr th:only-of-type {\n",
       "        vertical-align: middle;\n",
       "    }\n",
       "\n",
       "    .dataframe tbody tr th {\n",
       "        vertical-align: top;\n",
       "    }\n",
       "\n",
       "    .dataframe thead th {\n",
       "        text-align: right;\n",
       "    }\n",
       "</style>\n",
       "<table border=\"1\" class=\"dataframe\">\n",
       "  <thead>\n",
       "    <tr style=\"text-align: right;\">\n",
       "      <th></th>\n",
       "      <th>companyName</th>\n",
       "      <th>CompanyTypeID</th>\n",
       "      <th>Total Invoices</th>\n",
       "      <th>Total Paid</th>\n",
       "      <th>Total Due Amount</th>\n",
       "    </tr>\n",
       "  </thead>\n",
       "  <tbody>\n",
       "    <tr>\n",
       "      <th>0</th>\n",
       "      <td>Formas e Imágenes, S.A. de C.V.</td>\n",
       "      <td>Customer</td>\n",
       "      <td>50000</td>\n",
       "      <td>25000</td>\n",
       "      <td>25000</td>\n",
       "    </tr>\n",
       "    <tr>\n",
       "      <th>1</th>\n",
       "      <td>PLUS DIGITAL, SA DE CV</td>\n",
       "      <td>Customer</td>\n",
       "      <td>80032</td>\n",
       "      <td>80032</td>\n",
       "      <td>0</td>\n",
       "    </tr>\n",
       "    <tr>\n",
       "      <th>2</th>\n",
       "      <td>SERVICIO DE CONSULTORIA DE VALOR AGREGADO SC</td>\n",
       "      <td>Customer</td>\n",
       "      <td>614706</td>\n",
       "      <td>330000</td>\n",
       "      <td>284706</td>\n",
       "    </tr>\n",
       "    <tr>\n",
       "      <th>3</th>\n",
       "      <td>Víctor Adrián del Ángel Espinosa</td>\n",
       "      <td>Customer</td>\n",
       "      <td>75000</td>\n",
       "      <td>19000</td>\n",
       "      <td>56000</td>\n",
       "    </tr>\n",
       "  </tbody>\n",
       "</table>\n",
       "</div>"
      ],
      "text/plain": [
       "                                    companyName CompanyTypeID  Total Invoices  \\\n",
       "0               Formas e Imágenes, S.A. de C.V.      Customer           50000   \n",
       "1                        PLUS DIGITAL, SA DE CV      Customer           80032   \n",
       "2  SERVICIO DE CONSULTORIA DE VALOR AGREGADO SC      Customer          614706   \n",
       "3              Víctor Adrián del Ángel Espinosa      Customer           75000   \n",
       "\n",
       "   Total Paid  Total Due Amount  \n",
       "0       25000             25000  \n",
       "1       80032                 0  \n",
       "2      330000            284706  \n",
       "3       19000             56000  "
      ]
     },
     "execution_count": 4,
     "metadata": {},
     "output_type": "execute_result"
    }
   ],
   "source": [
    "# Query and display records from two different tables for customers (not suppliers),  add a new column with\n",
    "#the difference of the invoice total and the amount that has been paid and SUM the Due Amount per Company\n",
    "\n",
    "# Prepare the query String\n",
    "qry3=pd.read_sql_query(\"SELECT Company.companyName,Company.companyTypeID,SUM(Invoice.invoiceTotal) AS 'Total Invoices',SUM(Invoice.invoiceBalance) AS 'Total Paid', SUM(Invoice.invoiceTotal-Invoice.invoiceBalance) AS 'Total Due Amount' FROM Company LEFT JOIN Invoice ON Invoice.companyRFC=Company.companyRFC WHERE Company.CompanyTypeID='Customer' GROUP BY companyName;\",conn)\n",
    "\n",
    "\"\"\"\n",
    "SELECT Company.companyName,Company.companyTypeID,\n",
    "SUM(Invoice.invoiceTotal) AS 'Total Invoices',SUM(Invoice.invoiceBalance) AS 'Total Paid', \n",
    "SUM(Invoice.invoiceTotal-Invoice.invoiceBalance) AS 'Total Due Amount'\n",
    "FROM Company \n",
    "LEFT JOIN Invoice ON Invoice.companyRFC=Company.companyRFC \n",
    "WHERE Company.CompanyTypeID=\"Customer\"\n",
    "GROUP BY companyName\n",
    "\"\"\"\n",
    "# Show the query ina Panda's Dataframe\n",
    "qry3"
   ]
  },
  {
   "cell_type": "markdown",
   "metadata": {},
   "source": [
    "### Update"
   ]
  },
  {
   "cell_type": "code",
   "execution_count": null,
   "metadata": {},
   "outputs": [],
   "source": []
  },
  {
   "cell_type": "code",
   "execution_count": 5,
   "metadata": {},
   "outputs": [
    {
     "data": {
      "text/html": [
       "<div>\n",
       "<style scoped>\n",
       "    .dataframe tbody tr th:only-of-type {\n",
       "        vertical-align: middle;\n",
       "    }\n",
       "\n",
       "    .dataframe tbody tr th {\n",
       "        vertical-align: top;\n",
       "    }\n",
       "\n",
       "    .dataframe thead th {\n",
       "        text-align: right;\n",
       "    }\n",
       "</style>\n",
       "<table border=\"1\" class=\"dataframe\">\n",
       "  <thead>\n",
       "    <tr style=\"text-align: right;\">\n",
       "      <th></th>\n",
       "      <th>invoiceID</th>\n",
       "      <th>companyRFC</th>\n",
       "      <th>projectID</th>\n",
       "      <th>invoiceDescription</th>\n",
       "      <th>invoiceDate</th>\n",
       "      <th>invoiceTotal</th>\n",
       "      <th>invoiceBalance</th>\n",
       "      <th>invoiceMethod</th>\n",
       "      <th>invoicetaxRate</th>\n",
       "    </tr>\n",
       "  </thead>\n",
       "  <tbody>\n",
       "    <tr>\n",
       "      <th>0</th>\n",
       "      <td>16</td>\n",
       "      <td>S&amp;S021003TBA</td>\n",
       "      <td>2</td>\n",
       "      <td>Sand</td>\n",
       "      <td>01/04/2021</td>\n",
       "      <td>10000</td>\n",
       "      <td>100</td>\n",
       "      <td>Wire Transfer</td>\n",
       "      <td>0.16</td>\n",
       "    </tr>\n",
       "  </tbody>\n",
       "</table>\n",
       "</div>"
      ],
      "text/plain": [
       "   invoiceID    companyRFC  projectID invoiceDescription invoiceDate  \\\n",
       "0         16  S&S021003TBA          2               Sand  01/04/2021   \n",
       "\n",
       "   invoiceTotal  invoiceBalance  invoiceMethod  invoicetaxRate  \n",
       "0         10000             100  Wire Transfer            0.16  "
      ]
     },
     "execution_count": 5,
     "metadata": {},
     "output_type": "execute_result"
    }
   ],
   "source": [
    "# We will Update the last invoice created\n",
    "qry4=pd.read_sql_query(\"select * from Invoice order by invoiceID desc limit 1;\",conn)\n",
    "qry4"
   ]
  },
  {
   "cell_type": "code",
   "execution_count": 9,
   "metadata": {},
   "outputs": [
    {
     "name": "stdout",
     "output_type": "stream",
     "text": [
      "Which invoice you want to pay?:16\n",
      "Amount:1000\n",
      "Payment successfully registered\n"
     ]
    }
   ],
   "source": [
    "inputinvoiceID=int(input('Which invoice you want to pay?:'))\n",
    "inputinvoiceAmount=int(input('Amount:'))\n",
    "\n",
    "\n",
    "qry5='update Invoice set invoiceBalance=? where invoiceID=?'\n",
    "\n",
    "\n",
    "try:\n",
    "        cur.execute(qry5, (inputinvoiceAmount+100,inputinvoiceID))\n",
    "        print ('Payment successfully registered')\n",
    "        conn.commit()\n",
    "except:\n",
    "        print ('Error please check your info .. rollback')\n",
    "        conn.rollback()"
   ]
  },
  {
   "cell_type": "code",
   "execution_count": 10,
   "metadata": {},
   "outputs": [
    {
     "data": {
      "text/html": [
       "<div>\n",
       "<style scoped>\n",
       "    .dataframe tbody tr th:only-of-type {\n",
       "        vertical-align: middle;\n",
       "    }\n",
       "\n",
       "    .dataframe tbody tr th {\n",
       "        vertical-align: top;\n",
       "    }\n",
       "\n",
       "    .dataframe thead th {\n",
       "        text-align: right;\n",
       "    }\n",
       "</style>\n",
       "<table border=\"1\" class=\"dataframe\">\n",
       "  <thead>\n",
       "    <tr style=\"text-align: right;\">\n",
       "      <th></th>\n",
       "      <th>invoiceID</th>\n",
       "      <th>companyRFC</th>\n",
       "      <th>projectID</th>\n",
       "      <th>invoiceDescription</th>\n",
       "      <th>invoiceDate</th>\n",
       "      <th>invoiceTotal</th>\n",
       "      <th>invoiceBalance</th>\n",
       "      <th>invoiceMethod</th>\n",
       "      <th>invoicetaxRate</th>\n",
       "    </tr>\n",
       "  </thead>\n",
       "  <tbody>\n",
       "    <tr>\n",
       "      <th>0</th>\n",
       "      <td>16</td>\n",
       "      <td>S&amp;S021003TBA</td>\n",
       "      <td>2</td>\n",
       "      <td>Sand</td>\n",
       "      <td>01/04/2021</td>\n",
       "      <td>10000</td>\n",
       "      <td>1100</td>\n",
       "      <td>Wire Transfer</td>\n",
       "      <td>0.16</td>\n",
       "    </tr>\n",
       "  </tbody>\n",
       "</table>\n",
       "</div>"
      ],
      "text/plain": [
       "   invoiceID    companyRFC  projectID invoiceDescription invoiceDate  \\\n",
       "0         16  S&S021003TBA          2               Sand  01/04/2021   \n",
       "\n",
       "   invoiceTotal  invoiceBalance  invoiceMethod  invoicetaxRate  \n",
       "0         10000            1100  Wire Transfer            0.16  "
      ]
     },
     "execution_count": 10,
     "metadata": {},
     "output_type": "execute_result"
    }
   ],
   "source": [
    "# Invoice Updated\n",
    "qry6=pd.read_sql_query(\"select * from Invoice order by invoiceID desc limit 1;\",conn)\n",
    "qry6"
   ]
  },
  {
   "cell_type": "code",
   "execution_count": 19,
   "metadata": {},
   "outputs": [
    {
     "data": {
      "text/plain": [
       "1100"
      ]
     },
     "execution_count": 19,
     "metadata": {},
     "output_type": "execute_result"
    }
   ],
   "source": [
    "qr6=\"select Invoice.invoiceBalance from Invoice where invoiceID=?;\"\n",
    "current_balance=cur.execute(qr6,inputinvoiceID).fetchone()\n",
    "current_balance=row[0]\n",
    "q"
   ]
  },
  {
   "cell_type": "code",
   "execution_count": null,
   "metadata": {},
   "outputs": [],
   "source": [
    "inputinvoiceID=int(input('Which invoice you want to pay?:'))\n",
    "inputinvoiceAmount=int(input('Amount:'))\n",
    "inputinvoiceBalance\n",
    "\n",
    "qry5='update Invoice set invoiceBalance=? where invoiceID=?'\n",
    "\n",
    "\n",
    "try:\n",
    "        cur.execute(qry5, (inputinvoiceAmount+inputinvoiceBalance,inputinvoiceID))\n",
    "        print ('Payment successfully registered')\n",
    "        conn.commit()\n",
    "except:\n",
    "        print ('Error please check your info .. rollback')\n",
    "        conn.rollback()"
   ]
  },
  {
   "cell_type": "code",
   "execution_count": null,
   "metadata": {},
   "outputs": [],
   "source": []
  }
 ],
 "metadata": {
  "kernelspec": {
   "display_name": "Python 3",
   "language": "python",
   "name": "python3"
  },
  "language_info": {
   "codemirror_mode": {
    "name": "ipython",
    "version": 3
   },
   "file_extension": ".py",
   "mimetype": "text/x-python",
   "name": "python",
   "nbconvert_exporter": "python",
   "pygments_lexer": "ipython3",
   "version": "3.8.5"
  }
 },
 "nbformat": 4,
 "nbformat_minor": 4
}
